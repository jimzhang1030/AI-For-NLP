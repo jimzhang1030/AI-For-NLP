{
 "cells": [
  {
   "cell_type": "markdown",
   "metadata": {},
   "source": [
    "***1. How to Github and Why do we use Jupyter and Pycharm;***"
   ]
  },
  {
   "cell_type": "markdown",
   "metadata": {},
   "source": [
    "Ans:\n",
    "* git init; git add; git commit -m; git remote add (name) (repository); git push -u (name)\n",
    "* Because Jupyter and Pycharm is Integrated Development Environment"
   ]
  },
  {
   "cell_type": "markdown",
   "metadata": {},
   "source": [
    "***2. What's the Probability Model?***"
   ]
  },
  {
   "cell_type": "markdown",
   "metadata": {},
   "source": [
    "Ans:\n",
    "$$ Pr(s) = Pr(w_1\\cdot w_2\\cdots w_n) \\sim Pr(w_1)\\cdot Pr(w_2|w_1)\\cdots Pr(w_n|w_{n-1}\\cdot w_{n-2}\\cdots w_1 )$$"
   ]
  },
  {
   "cell_type": "markdown",
   "metadata": {},
   "source": [
    "***3. Can you came up with some sceneraies at which we could use Probability Model?***"
   ]
  },
  {
   "cell_type": "markdown",
   "metadata": {},
   "source": [
    "Ans:\n",
    "* Speech recognition\n",
    "* OCR\n",
    "* Text understanding\n",
    "* Machine translation"
   ]
  },
  {
   "cell_type": "markdown",
   "metadata": {},
   "source": [
    "***4. Why do we use probability and what's the difficult points for programming based on parsing and pattern match?***"
   ]
  },
  {
   "cell_type": "markdown",
   "metadata": {},
   "source": [
    "Ans:\n",
    "* Perfrom well\n",
    "* It' hard to realize and it needs lost of pattern, whta's more, it's hard to cover all pattern"
   ]
  },
  {
   "cell_type": "markdown",
   "metadata": {},
   "source": [
    "***5. what's the Language Mode?***"
   ]
  },
  {
   "cell_type": "markdown",
   "metadata": {},
   "source": [
    "Ans:\n",
    "* It is used to calculate the probability of a sentence"
   ]
  },
  {
   "cell_type": "markdown",
   "metadata": {},
   "source": [
    "***6. Can you came up with some sceneraies at which we could use Language Model?***"
   ]
  },
  {
   "cell_type": "markdown",
   "metadata": {},
   "source": [
    "Ans:\n",
    "* Speech recognition\n",
    "* Text understanding\n",
    "* Machine translation"
   ]
  },
  {
   "cell_type": "markdown",
   "metadata": {},
   "source": [
    "***7. What's the 1-gram language model?***"
   ]
  },
  {
   "cell_type": "markdown",
   "metadata": {},
   "source": [
    "Ans:\n",
    "$$ Pr(s) = Pr(w_1\\cdot w_2\\cdots w_n)\\sim Pr(w_1)\\cdot Pr(w_2)\\cdots Pr(w_n) $$"
   ]
  },
  {
   "cell_type": "markdown",
   "metadata": {},
   "source": [
    "***8. What's the disadvantages and advantages of 1-gram language model?***"
   ]
  },
  {
   "cell_type": "markdown",
   "metadata": {},
   "source": [
    "Ans:\n",
    "* disadvantages: No constraints for the next word!\n",
    "* advantages: Compared to the caculate the probability model,it's convenient to compute.It simplifies the problem. "
   ]
  },
  {
   "cell_type": "markdown",
   "metadata": {},
   "source": [
    "***9. What't the 2-gram models？***"
   ]
  },
  {
   "cell_type": "markdown",
   "metadata": {},
   "source": [
    "Ans:\n",
    "$$ Pr(s) = Pr(w_1\\cdot w_2\\cdots w_n)\\sim Pr(w_1)\\cdot Pr(w_2|w_1)\\cdot Pr(w_3|w_2)\\cdots Pr(w_n|w_{n-1}) $$"
   ]
  },
  {
   "cell_type": "markdown",
   "metadata": {},
   "source": [
    "***10. what's the web crawler, and can you implement a simple crawler?***"
   ]
  },
  {
   "cell_type": "markdown",
   "metadata": {},
   "source": [
    "Ans:\n",
    "* web crawler is crawl the information you need from web\n",
    "* Yes, I can use some python package to do it, such as request to get url, and regular expression to match the information you need"
   ]
  },
  {
   "cell_type": "markdown",
   "metadata": {},
   "source": [
    "***11. There may be some issues to make our crwaler programming difficult, what are these, and how do we solve them?***"
   ]
  },
  {
   "cell_type": "markdown",
   "metadata": {},
   "source": [
    "Ans:  \n",
    "  difficults:\n",
    "* it will constraint the number of the same ip access in a period\n",
    "* verification code  \n",
    "\n",
    "solution:\n",
    "* ip address warehouse\n",
    "* buy some service for verification"
   ]
  },
  {
   "cell_type": "markdown",
   "metadata": {},
   "source": [
    "***12. What't the Regular Expression and how to use?***"
   ]
  },
  {
   "cell_type": "markdown",
   "metadata": {},
   "source": [
    "Ans:\n",
    "* It' s used for string matching"
   ]
  },
  {
   "cell_type": "code",
   "execution_count": null,
   "metadata": {},
   "outputs": [],
   "source": []
  }
 ],
 "metadata": {
  "kernelspec": {
   "display_name": "Python 3",
   "language": "python",
   "name": "python3"
  },
  "language_info": {
   "codemirror_mode": {
    "name": "ipython",
    "version": 3
   },
   "file_extension": ".py",
   "mimetype": "text/x-python",
   "name": "python",
   "nbconvert_exporter": "python",
   "pygments_lexer": "ipython3",
   "version": "3.7.3"
  }
 },
 "nbformat": 4,
 "nbformat_minor": 2
}
