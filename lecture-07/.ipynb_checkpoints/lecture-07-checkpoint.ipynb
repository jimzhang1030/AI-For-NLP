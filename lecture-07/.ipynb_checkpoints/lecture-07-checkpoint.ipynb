{
 "cells": [
  {
   "cell_type": "markdown",
   "metadata": {},
   "source": [
    "## 不推荐自己写dependency-parse\n",
    "1. 你我他找到对应的人名\n",
    "2. 句子嵌套句子\n",
    "3. 如何提取主要观点\n",
    "\n",
    "Ans:\n",
    "1. 代词指代不仅是语法问题，也是逻辑问题，可参考陈丹琦毕业论文中的co-reference指代消解\n",
    "2. 主从复合句用denpendency-parsing"
   ]
  },
  {
   "cell_type": "markdown",
   "metadata": {},
   "source": [
    "## 回归主要是为了预测"
   ]
  },
  {
   "cell_type": "code",
   "execution_count": null,
   "metadata": {
    "collapsed": true
   },
   "outputs": [],
   "source": []
  }
 ],
 "metadata": {
  "kernelspec": {
   "display_name": "Python 3",
   "language": "python",
   "name": "python3"
  },
  "language_info": {
   "codemirror_mode": {
    "name": "ipython",
    "version": 3
   },
   "file_extension": ".py",
   "mimetype": "text/x-python",
   "name": "python",
   "nbconvert_exporter": "python",
   "pygments_lexer": "ipython3",
   "version": "3.6.1"
  }
 },
 "nbformat": 4,
 "nbformat_minor": 2
}
