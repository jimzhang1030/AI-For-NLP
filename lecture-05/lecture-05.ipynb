{
 "cells": [
  {
   "cell_type": "markdown",
   "metadata": {},
   "source": [
    "### PCA: 降维 要把所有单词重新算一遍"
   ]
  },
  {
   "cell_type": "markdown",
   "metadata": {},
   "source": [
    "### SVD "
   ]
  },
  {
   "cell_type": "markdown",
   "metadata": {},
   "source": [
    "### one-hot弊端：计算量很大，有一个新词就要重新算一遍"
   ]
  },
  {
   "cell_type": "markdown",
   "metadata": {},
   "source": [
    "### Graph Embedding 避免子图全构问题（微信、支付宝、Twitter常用）解决的是子图重构问题"
   ]
  },
  {
   "cell_type": "markdown",
   "metadata": {
    "collapsed": true
   },
   "source": [
    "[PCA](https://www.wikiwand.com/en/Principal_component_analysis)"
   ]
  },
  {
   "cell_type": "markdown",
   "metadata": {},
   "source": [
    "[SVD](https://www.wikiwand.com/en/Singular-value_decomposition)"
   ]
  },
  {
   "cell_type": "markdown",
   "metadata": {},
   "source": [
    "矩阵乘法顺序是: 第一行乘所有列 -> 第二行乘所有列 -> 第n行乘所有列\n",
    "所以如果x=(1,0,0,0,0....,0)这样的话就是w是(100,10000),那么$w*x$就相当于w只取每列的第一个，结果就相当于取w的第一行"
   ]
  },
  {
   "cell_type": "markdown",
   "metadata": {},
   "source": [
    "ICLR会议研究机器学习各种问题的表征问题"
   ]
  },
  {
   "cell_type": "markdown",
   "metadata": {
    "collapsed": true
   },
   "source": [
    "word2vec从输出中获取表征"
   ]
  },
  {
   "cell_type": "code",
   "execution_count": 2,
   "metadata": {},
   "outputs": [
    {
     "name": "stdout",
     "output_type": "stream",
     "text": [
      "Requirement already satisfied: gensim in /Users/zzy/anaconda/lib/python3.6/site-packages (3.4.0)\n",
      "Requirement already satisfied: scipy>=0.18.1 in /Users/zzy/anaconda/lib/python3.6/site-packages (from gensim) (1.0.1)\n",
      "Requirement already satisfied: six>=1.5.0 in /Users/zzy/anaconda/lib/python3.6/site-packages (from gensim) (1.11.0)\n",
      "Requirement already satisfied: numpy>=1.11.3 in /Users/zzy/anaconda/lib/python3.6/site-packages (from gensim) (1.14.2)\n",
      "Requirement already satisfied: smart-open>=1.2.1 in /Users/zzy/anaconda/lib/python3.6/site-packages (from gensim) (1.5.7)\n",
      "Requirement already satisfied: bz2file in /Users/zzy/anaconda/lib/python3.6/site-packages (from smart-open>=1.2.1->gensim) (0.98)\n",
      "Requirement already satisfied: boto>=2.32 in /Users/zzy/anaconda/lib/python3.6/site-packages (from smart-open>=1.2.1->gensim) (2.46.1)\n",
      "Requirement already satisfied: requests in /Users/zzy/anaconda/lib/python3.6/site-packages (from smart-open>=1.2.1->gensim) (2.14.2)\n",
      "Requirement already satisfied: boto3 in /Users/zzy/anaconda/lib/python3.6/site-packages (from smart-open>=1.2.1->gensim) (1.7.4)\n",
      "Requirement already satisfied: jmespath<1.0.0,>=0.7.1 in /Users/zzy/anaconda/lib/python3.6/site-packages (from boto3->smart-open>=1.2.1->gensim) (0.9.3)\n",
      "Requirement already satisfied: s3transfer<0.2.0,>=0.1.10 in /Users/zzy/anaconda/lib/python3.6/site-packages (from boto3->smart-open>=1.2.1->gensim) (0.1.13)\n",
      "Requirement already satisfied: botocore<1.11.0,>=1.10.4 in /Users/zzy/anaconda/lib/python3.6/site-packages (from boto3->smart-open>=1.2.1->gensim) (1.10.4)\n",
      "Requirement already satisfied: python-dateutil<2.7.0,>=2.1 in /Users/zzy/anaconda/lib/python3.6/site-packages (from botocore<1.11.0,>=1.10.4->boto3->smart-open>=1.2.1->gensim) (2.6.0)\n",
      "Requirement already satisfied: docutils>=0.10 in /Users/zzy/anaconda/lib/python3.6/site-packages (from botocore<1.11.0,>=1.10.4->boto3->smart-open>=1.2.1->gensim) (0.13.1)\n"
     ]
    }
   ],
   "source": [
    "!pip install gensim"
   ]
  },
  {
   "cell_type": "code",
   "execution_count": 4,
   "metadata": {},
   "outputs": [],
   "source": [
    "from gensim.models import Word2Vec"
   ]
  },
  {
   "cell_type": "code",
   "execution_count": 16,
   "metadata": {},
   "outputs": [],
   "source": [
    "sentences = [[\"cat\", \"say\", \"meow\"], [\"dog\", \"say\", \"woof\"]]\n",
    "model = Word2Vec(sentences, min_count=1)\n",
    "# model.build_vocab(sentences)\n",
    "# model.train(sentences, total_examples = model.corpus_count, epochs=model.iter)"
   ]
  },
  {
   "cell_type": "code",
   "execution_count": 17,
   "metadata": {},
   "outputs": [
    {
     "data": {
      "text/plain": [
       "array([-1.5697241e-03, -3.5717341e-03,  4.5633847e-03, -2.6045186e-03,\n",
       "        1.6300885e-03,  5.1658141e-04, -3.7842060e-03,  2.5167456e-03,\n",
       "        3.4274021e-03,  2.9960922e-03, -3.3260188e-03, -2.5667299e-03,\n",
       "       -4.7862614e-03,  2.0433685e-03, -4.1152761e-04,  3.4233571e-03,\n",
       "       -3.6471596e-03, -1.8692585e-03, -3.9337985e-03,  9.7577606e-04,\n",
       "       -4.8386771e-03,  1.8542106e-03,  1.2354797e-04, -4.4234954e-03,\n",
       "       -4.4720620e-03, -1.7456653e-03, -3.1335498e-03, -3.2601571e-03,\n",
       "        4.0595359e-03, -1.6521210e-03,  1.1374104e-03,  3.4945991e-03,\n",
       "       -1.7144340e-04,  2.3166751e-03, -2.8242066e-03,  5.1849079e-04,\n",
       "        2.8280446e-03,  1.9141865e-03,  2.2667777e-03, -6.5726868e-04,\n",
       "        3.4753287e-03,  6.4689759e-04, -2.9727104e-03,  3.8227986e-04,\n",
       "        2.9737272e-03, -3.6160203e-03,  1.1324831e-03, -4.3222727e-03,\n",
       "        3.7497212e-04, -2.5967043e-03, -1.0595784e-03,  3.7336242e-03,\n",
       "       -2.6305290e-03, -4.2627129e-05,  3.1995506e-03, -2.4368628e-03,\n",
       "       -3.7993633e-03,  1.5412952e-03,  4.1201403e-03, -1.0340224e-03,\n",
       "       -2.9813482e-03,  3.0683071e-04,  1.7419648e-04, -3.6962824e-03,\n",
       "        5.6470453e-04,  2.7557055e-03,  4.1001518e-03, -1.5064367e-03,\n",
       "        3.8726658e-03,  1.1341240e-03, -3.1578823e-03, -8.8967773e-04,\n",
       "        9.4486418e-04, -3.2896528e-03,  1.5926979e-03, -4.4139335e-03,\n",
       "        3.0496344e-03,  4.2351047e-03,  3.3376915e-03, -2.4520927e-03,\n",
       "        1.8293158e-03,  2.3872016e-03,  4.9620802e-03,  3.7426576e-03,\n",
       "        4.5504486e-03,  3.2845347e-03, -2.1227312e-03,  6.0723530e-04,\n",
       "       -4.8028743e-03,  3.8112495e-03, -1.2465401e-04,  4.1171713e-03,\n",
       "       -2.4768885e-03, -1.6523956e-03,  4.1602924e-03,  3.2530719e-04,\n",
       "       -4.3118517e-03,  1.2421996e-03, -2.5603781e-03,  1.0970962e-03],\n",
       "      dtype=float32)"
      ]
     },
     "execution_count": 17,
     "metadata": {},
     "output_type": "execute_result"
    }
   ],
   "source": [
    "model.wv['cat']"
   ]
  },
  {
   "cell_type": "code",
   "execution_count": 18,
   "metadata": {},
   "outputs": [
    {
     "name": "stderr",
     "output_type": "stream",
     "text": [
      "/Users/zzy/anaconda/lib/python3.6/site-packages/ipykernel_launcher.py:1: DeprecationWarning: Call to deprecated `most_similar` (Method will be removed in 4.0.0, use self.wv.most_similar() instead).\n",
      "  \"\"\"Entry point for launching an IPython kernel.\n"
     ]
    },
    {
     "data": {
      "text/plain": [
       "[('woof', 0.07694537192583084),\n",
       " ('dog', 0.06322703510522842),\n",
       " ('meow', 0.004378150217235088),\n",
       " ('say', -0.033543795347213745)]"
      ]
     },
     "execution_count": 18,
     "metadata": {},
     "output_type": "execute_result"
    }
   ],
   "source": [
    "model.most_similar('cat')"
   ]
  },
  {
   "cell_type": "code",
   "execution_count": 19,
   "metadata": {},
   "outputs": [
    {
     "data": {
      "text/plain": [
       "<gensim.models.word2vec.Word2VecVocab at 0x1139b19b0>"
      ]
     },
     "execution_count": 19,
     "metadata": {},
     "output_type": "execute_result"
    }
   ],
   "source": [
    "model.vocabulary"
   ]
  },
  {
   "cell_type": "code",
   "execution_count": 20,
   "metadata": {},
   "outputs": [
    {
     "name": "stdout",
     "output_type": "stream",
     "text": [
      "lecture-05.ipynb\r\n"
     ]
    }
   ],
   "source": [
    "!ls"
   ]
  },
  {
   "cell_type": "code",
   "execution_count": 22,
   "metadata": {},
   "outputs": [
    {
     "data": {
      "text/plain": [
       "{'cat': <gensim.models.keyedvectors.Vocab at 0x1139b1710>,\n",
       " 'dog': <gensim.models.keyedvectors.Vocab at 0x1139b1518>,\n",
       " 'meow': <gensim.models.keyedvectors.Vocab at 0x1139b1e80>,\n",
       " 'say': <gensim.models.keyedvectors.Vocab at 0x1139b1ac8>,\n",
       " 'woof': <gensim.models.keyedvectors.Vocab at 0x1139b1a20>}"
      ]
     },
     "execution_count": 22,
     "metadata": {},
     "output_type": "execute_result"
    }
   ],
   "source": [
    "model.wv.vocab"
   ]
  },
  {
   "cell_type": "code",
   "execution_count": null,
   "metadata": {
    "collapsed": true
   },
   "outputs": [],
   "source": [
    "from gensim.models.word2vec improt LineSentence"
   ]
  },
  {
   "cell_type": "code",
   "execution_count": 24,
   "metadata": {
    "collapsed": true
   },
   "outputs": [],
   "source": [
    "import jieba"
   ]
  },
  {
   "cell_type": "code",
   "execution_count": 25,
   "metadata": {
    "collapsed": true
   },
   "outputs": [],
   "source": [
    "def cut(string):\n",
    "    return ' '.join(jieba.cut(string))"
   ]
  },
  {
   "cell_type": "markdown",
   "metadata": {},
   "source": [
    "作新向量求相似度；以**“说”**为出发点作搜索树"
   ]
  },
  {
   "cell_type": "markdown",
   "metadata": {},
   "source": [
    "NER：命名体识别，区分出来什么是人名，组织名，地点"
   ]
  },
  {
   "cell_type": "code",
   "execution_count": null,
   "metadata": {
    "collapsed": true
   },
   "outputs": [],
   "source": [
    "from jieba import posseg"
   ]
  }
 ],
 "metadata": {
  "kernelspec": {
   "display_name": "Python 3",
   "language": "python",
   "name": "python3"
  },
  "language_info": {
   "codemirror_mode": {
    "name": "ipython",
    "version": 3
   },
   "file_extension": ".py",
   "mimetype": "text/x-python",
   "name": "python",
   "nbconvert_exporter": "python",
   "pygments_lexer": "ipython3",
   "version": "3.6.1"
  }
 },
 "nbformat": 4,
 "nbformat_minor": 2
}
