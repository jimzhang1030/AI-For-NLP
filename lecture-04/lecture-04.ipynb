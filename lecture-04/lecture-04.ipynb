{
 "cells": [
  {
   "cell_type": "markdown",
   "metadata": {},
   "source": [
    "# 课堂随记"
   ]
  },
  {
   "cell_type": "markdown",
   "metadata": {},
   "source": [
    "## Books"
   ]
  },
  {
   "cell_type": "markdown",
   "metadata": {},
   "source": [
    "### 3.SICP | 1.Artificial Intelligence A Modern Approach | 2.Programming Pearls | 4.Fluent Python | W"
   ]
  },
  {
   "cell_type": "markdown",
   "metadata": {},
   "source": [
    "### Build a Modern Computer from First principles: from nerd to Tetris"
   ]
  },
  {
   "cell_type": "markdown",
   "metadata": {},
   "source": [
    "# NIPS ACL ICML ICLR AAAI"
   ]
  },
  {
   "cell_type": "markdown",
   "metadata": {
    "collapsed": true
   },
   "source": [
    "1.Words -> 2.Entity -> 3.Syntax -> 4.Semantic -> 5.Dialogue -> 6.Reading Comprehension -> 7.Generation -> 8.Representation + Policy -> 1.Words"
   ]
  },
  {
   "cell_type": "markdown",
   "metadata": {},
   "source": [
    "目前对话系统主要基于搜索，核心点是语义匹配"
   ]
  },
  {
   "cell_type": "markdown",
   "metadata": {},
   "source": [
    "Reading Comprehension 也可以做自动摘要"
   ]
  },
  {
   "cell_type": "markdown",
   "metadata": {},
   "source": [
    "Generation 可以做财务报表自动生成"
   ]
  },
  {
   "cell_type": "markdown",
   "metadata": {},
   "source": [
    "AI ：  \n",
    "1. Representation 表征  \n",
    "2. policy 计算"
   ]
  },
  {
   "cell_type": "markdown",
   "metadata": {},
   "source": [
    "why NLP？\n",
    "* Information Chaos  \n",
    "* Unstructured (单词和句子如何表征现在仍然解决不了，但作了很好的尝试:word2vec)\n",
    "* Discrete（数据是不连续的）\n",
    "* Unconventional(语言是不常规的，图像则不会）\n",
    "* OOV（out of vocabulary)"
   ]
  },
  {
   "cell_type": "markdown",
   "metadata": {},
   "source": [
    "---"
   ]
  },
  {
   "cell_type": "markdown",
   "metadata": {},
   "source": [
    "## 数组压平实现"
   ]
  },
  {
   "cell_type": "markdown",
   "metadata": {},
   "source": [
    "### itertools"
   ]
  },
  {
   "cell_type": "code",
   "execution_count": 118,
   "metadata": {},
   "outputs": [
    {
     "data": {
      "text/plain": [
       "['a', 'b', 'c', ['d', 'e']]"
      ]
     },
     "execution_count": 118,
     "metadata": {},
     "output_type": "execute_result"
    }
   ],
   "source": [
    "import itertools\n",
    "a = [\"a\", \"b\", [\"c\", [\"d\", \"e\"]]]\n",
    "out = list(itertools.chain.from_iterable(a))\n",
    "out"
   ]
  },
  {
   "cell_type": "markdown",
   "metadata": {},
   "source": [
    "### 函数递归实现"
   ]
  },
  {
   "cell_type": "code",
   "execution_count": 89,
   "metadata": {
    "collapsed": true
   },
   "outputs": [],
   "source": [
    "from icecream import ic\n",
    "def flatten_list(l):\n",
    "    ic(l)\n",
    "    output = []\n",
    "    for i in l:\n",
    "        if type(i) == list:\n",
    "            output+=flatten_list(i)  # 一般遇到list的情况下递归\n",
    "        else:\n",
    "            output.append(i)  #递归到最底层时的条件\n",
    "    ic(output)\n",
    "    return output"
   ]
  },
  {
   "cell_type": "code",
   "execution_count": 90,
   "metadata": {},
   "outputs": [
    {
     "name": "stderr",
     "output_type": "stream",
     "text": [
      "ic| l: [1, [2, 3, [4, 5]]]\n",
      "ic| l: [2, 3, [4, 5]]\n",
      "ic| l: [4, 5]\n",
      "ic| output: [4, 5]\n",
      "ic| output: [2, 3, 4, 5]\n",
      "ic| output: [1, 2, 3, 4, 5]\n"
     ]
    },
    {
     "data": {
      "text/plain": [
       "[1, 2, 3, 4, 5]"
      ]
     },
     "execution_count": 90,
     "metadata": {},
     "output_type": "execute_result"
    }
   ],
   "source": [
    "flatten_list([1, [2, 3,[4, 5]]])"
   ]
  },
  {
   "cell_type": "markdown",
   "metadata": {},
   "source": [
    "### lambda表达式递归实现"
   ]
  },
  {
   "cell_type": "code",
   "execution_count": 93,
   "metadata": {
    "collapsed": true
   },
   "outputs": [],
   "source": [
    "flatten = lambda x: [y for l in x for y in flatten(l)] if type(x) in [tuple, list] else [x] "
   ]
  },
  {
   "cell_type": "code",
   "execution_count": 94,
   "metadata": {},
   "outputs": [
    {
     "data": {
      "text/plain": [
       "[1, 2, 3, 4, 5, 6, 7, 8, 9]"
      ]
     },
     "execution_count": 94,
     "metadata": {},
     "output_type": "execute_result"
    }
   ],
   "source": [
    "flatten(a)"
   ]
  },
  {
   "cell_type": "code",
   "execution_count": 100,
   "metadata": {
    "collapsed": true
   },
   "outputs": [],
   "source": [
    "flat = lambda L: sum(map(flat, L), []) if isinstance(L, list) else [L]"
   ]
  },
  {
   "cell_type": "code",
   "execution_count": 101,
   "metadata": {
    "scrolled": true
   },
   "outputs": [
    {
     "data": {
      "text/plain": [
       "[1, 2, 3, 4, 5, 6, (7, 8), 9]"
      ]
     },
     "execution_count": 101,
     "metadata": {},
     "output_type": "execute_result"
    }
   ],
   "source": [
    "flat(a)"
   ]
  },
  {
   "cell_type": "markdown",
   "metadata": {},
   "source": [
    "---"
   ]
  },
  {
   "cell_type": "markdown",
   "metadata": {},
   "source": [
    "## Dynamic Programming for cutting problem\n",
    "* Rob Cutting Problem\n",
    "* Edit-Distance Problem\n",
    "* Key Characteristics for Dynamic Programming\n",
    "* The Travel Salesman Problem"
   ]
  },
  {
   "cell_type": "code",
   "execution_count": 1,
   "metadata": {
    "collapsed": true
   },
   "outputs": [],
   "source": [
    "original_price = [1, 5, 8, 9, 10, 17, 17, 20, 24, 30]"
   ]
  },
  {
   "cell_type": "code",
   "execution_count": 2,
   "metadata": {
    "collapsed": true
   },
   "outputs": [],
   "source": [
    "from collections import defaultdict"
   ]
  },
  {
   "cell_type": "code",
   "execution_count": 3,
   "metadata": {
    "collapsed": true
   },
   "outputs": [],
   "source": [
    "price = defaultdict(int)"
   ]
  },
  {
   "cell_type": "code",
   "execution_count": 4,
   "metadata": {
    "collapsed": true
   },
   "outputs": [],
   "source": [
    "for i, p in enumerate(original_price):\n",
    "    price[i+1] = p"
   ]
  },
  {
   "cell_type": "code",
   "execution_count": 5,
   "metadata": {
    "collapsed": true
   },
   "outputs": [],
   "source": [
    "assert price[1] == 1"
   ]
  },
  {
   "cell_type": "code",
   "execution_count": 75,
   "metadata": {
    "collapsed": true
   },
   "outputs": [],
   "source": [
    "def r(n):\n",
    "    return max(\n",
    "        [price[n]] + [r(i) + r(n-i) for i in range(1, n)]\n",
    "#         [r(n) + r(0)] + [r(i) + r(n-i) for i in range(1, n)]  这样递归会没有出口\n",
    "    )"
   ]
  },
  {
   "cell_type": "code",
   "execution_count": 76,
   "metadata": {},
   "outputs": [
    {
     "data": {
      "text/plain": [
       "0"
      ]
     },
     "execution_count": 76,
     "metadata": {},
     "output_type": "execute_result"
    }
   ],
   "source": [
    "price[132]  # 说明肯定要拆分"
   ]
  },
  {
   "cell_type": "code",
   "execution_count": 19,
   "metadata": {},
   "outputs": [
    {
     "data": {
      "text/plain": [
       "22"
      ]
     },
     "execution_count": 19,
     "metadata": {},
     "output_type": "execute_result"
    }
   ],
   "source": [
    "r(8)"
   ]
  },
  {
   "cell_type": "code",
   "execution_count": 78,
   "metadata": {
    "collapsed": true
   },
   "outputs": [],
   "source": [
    "# !mv 图片路径 .  "
   ]
  },
  {
   "cell_type": "code",
   "execution_count": 10,
   "metadata": {
    "collapsed": true
   },
   "outputs": [],
   "source": [
    "solution = {}"
   ]
  },
  {
   "cell_type": "code",
   "execution_count": 80,
   "metadata": {
    "collapsed": true
   },
   "outputs": [],
   "source": [
    "from functools import lru_cache"
   ]
  },
  {
   "cell_type": "code",
   "execution_count": 81,
   "metadata": {
    "collapsed": true
   },
   "outputs": [],
   "source": [
    "@lru_cache(maxsize=2**10)\n",
    "def r(n):\n",
    "    max_price, split_point = max(\n",
    "        [(price[n], 0)] + [(r(i) + r(n-i), i) for i in range(1, n)], key = lambda x: x[0]\n",
    "    )\n",
    "    solution[n] = (split_point, n - split_point)\n",
    "    return max_price"
   ]
  },
  {
   "cell_type": "code",
   "execution_count": 82,
   "metadata": {
    "collapsed": true
   },
   "outputs": [],
   "source": [
    "solution = {}"
   ]
  },
  {
   "cell_type": "code",
   "execution_count": 84,
   "metadata": {},
   "outputs": [
    {
     "data": {
      "text/plain": [
       "300"
      ]
     },
     "execution_count": 84,
     "metadata": {},
     "output_type": "execute_result"
    }
   ],
   "source": [
    "r(100)"
   ]
  },
  {
   "cell_type": "code",
   "execution_count": 85,
   "metadata": {
    "collapsed": true
   },
   "outputs": [],
   "source": [
    "def fun_1(n):\n",
    "\n",
    "    for i in range(n):\n",
    "        print(n)\n"
   ]
  },
  {
   "cell_type": "code",
   "execution_count": 86,
   "metadata": {
    "collapsed": true
   },
   "outputs": [],
   "source": [
    "import time"
   ]
  },
  {
   "cell_type": "code",
   "execution_count": 87,
   "metadata": {
    "collapsed": true
   },
   "outputs": [],
   "source": [
    "def func_slow(n):\n",
    "    start = time.time()\n",
    "    for i in range(n):\n",
    "        time.sleep(0.2)\n",
    "        print(n)\n",
    "    print('used time: {}'.format(time.time() -  start))"
   ]
  },
  {
   "cell_type": "code",
   "execution_count": 88,
   "metadata": {},
   "outputs": [
    {
     "name": "stdout",
     "output_type": "stream",
     "text": [
      "5\n",
      "5\n",
      "5\n",
      "5\n",
      "5\n",
      "used time: 1.0232460498809814\n"
     ]
    }
   ],
   "source": [
    "func_slow(5)"
   ]
  },
  {
   "cell_type": "code",
   "execution_count": 89,
   "metadata": {
    "collapsed": true
   },
   "outputs": [],
   "source": [
    "def call_time(fun_1, arg): # 脚手架程序\n",
    "    start = time.time()\n",
    "    fun_1(arg)\n",
    "    print('used time: {}'.format(time.time() -  start))"
   ]
  },
  {
   "cell_type": "code",
   "execution_count": 90,
   "metadata": {},
   "outputs": [
    {
     "name": "stdout",
     "output_type": "stream",
     "text": [
      "10\n",
      "10\n",
      "10\n",
      "10\n",
      "10\n",
      "10\n",
      "10\n",
      "10\n",
      "10\n",
      "10\n",
      "used time: 0.0007200241088867188\n"
     ]
    }
   ],
   "source": [
    "call_time(fun_1, 10)"
   ]
  },
  {
   "cell_type": "code",
   "execution_count": 91,
   "metadata": {
    "collapsed": true
   },
   "outputs": [],
   "source": [
    "def get_call_time(func):\n",
    "    def _inner(arg):\n",
    "        start = time.time()\n",
    "        result = func(arg)\n",
    "        print('used time: {}'.format(time.time() - start))\n",
    "        return result\n",
    "    return _inner"
   ]
  },
  {
   "cell_type": "code",
   "execution_count": 92,
   "metadata": {
    "collapsed": true
   },
   "outputs": [],
   "source": [
    "func_1_could_get_calltime  = get_call_time(fun_1)"
   ]
  },
  {
   "cell_type": "code",
   "execution_count": 93,
   "metadata": {},
   "outputs": [
    {
     "name": "stdout",
     "output_type": "stream",
     "text": [
      "10\n",
      "10\n",
      "10\n",
      "10\n",
      "10\n",
      "10\n",
      "10\n",
      "10\n",
      "10\n",
      "10\n",
      "used time: 0.0011792182922363281\n"
     ]
    }
   ],
   "source": [
    "func_1_could_get_calltime(10)"
   ]
  },
  {
   "cell_type": "markdown",
   "metadata": {},
   "source": [
    "### 所以就可以用以下方法"
   ]
  },
  {
   "cell_type": "code",
   "execution_count": 94,
   "metadata": {
    "collapsed": true
   },
   "outputs": [],
   "source": [
    "fun_1 = get_call_time(fun_1)"
   ]
  },
  {
   "cell_type": "code",
   "execution_count": 95,
   "metadata": {},
   "outputs": [
    {
     "name": "stdout",
     "output_type": "stream",
     "text": [
      "10\n",
      "10\n",
      "10\n",
      "10\n",
      "10\n",
      "10\n",
      "10\n",
      "10\n",
      "10\n",
      "10\n",
      "used time: 0.0004620552062988281\n"
     ]
    }
   ],
   "source": [
    "fun_1(10)"
   ]
  },
  {
   "cell_type": "markdown",
   "metadata": {},
   "source": [
    "### 为了避免复杂，所以可以用"
   ]
  },
  {
   "cell_type": "code",
   "execution_count": 102,
   "metadata": {
    "collapsed": true
   },
   "outputs": [],
   "source": [
    "@get_call_time\n",
    "def fun_1(n):\n",
    "\n",
    "    for i in range(n):\n",
    "        print(n)"
   ]
  },
  {
   "cell_type": "code",
   "execution_count": 97,
   "metadata": {},
   "outputs": [
    {
     "name": "stdout",
     "output_type": "stream",
     "text": [
      "10\n",
      "10\n",
      "10\n",
      "10\n",
      "10\n",
      "10\n",
      "10\n",
      "10\n",
      "10\n",
      "10\n",
      "used time: 0.0017740726470947266\n"
     ]
    }
   ],
   "source": [
    "fun_1(10)"
   ]
  },
  {
   "cell_type": "markdown",
   "metadata": {},
   "source": [
    "### @w a <=> a = w(a)"
   ]
  },
  {
   "cell_type": "markdown",
   "metadata": {},
   "source": [
    "### 现在再继续改写"
   ]
  },
  {
   "cell_type": "code",
   "execution_count": 108,
   "metadata": {
    "collapsed": true
   },
   "outputs": [],
   "source": [
    "function_called_time = defaultdict(int)\n",
    "\n",
    "def get_call_time(func):\n",
    "    def _inner(arg):\n",
    "        global function_called_time\n",
    "        function_called_time[func.__name__] += 1\n",
    "        start = time.time()\n",
    "        result = func(arg)     # 关键点，都有返回一个result\n",
    "        print('function call time is: {}'.format(function_called_time[func.__name__]))\n",
    "        return result\n",
    "    return _inner"
   ]
  },
  {
   "cell_type": "code",
   "execution_count": 109,
   "metadata": {},
   "outputs": [
    {
     "name": "stdout",
     "output_type": "stream",
     "text": [
      "10\n",
      "10\n",
      "10\n",
      "10\n",
      "10\n",
      "10\n",
      "10\n",
      "10\n",
      "10\n",
      "10\n",
      "function call time is: 1\n"
     ]
    }
   ],
   "source": [
    "fun_1(10)    # 可用于累计用户访问数"
   ]
  },
  {
   "cell_type": "markdown",
   "metadata": {},
   "source": [
    "---"
   ]
  },
  {
   "cell_type": "code",
   "execution_count": 6,
   "metadata": {
    "collapsed": true
   },
   "outputs": [],
   "source": [
    "from icecream import ic"
   ]
  },
  {
   "cell_type": "code",
   "execution_count": 2,
   "metadata": {
    "collapsed": true
   },
   "outputs": [],
   "source": [
    "def memo(func):\n",
    "    cache = {}\n",
    "#     @wraps(func)\n",
    "    def _wrap(n): ## ? *args, **kwargs\n",
    "        if n in cache: result = cache[n]   # 都要返回原函数的result\n",
    "        else:\n",
    "            cache[n] = func(n)\n",
    "            result = cache[n]\n",
    "        return result\n",
    "    return _wrap"
   ]
  },
  {
   "cell_type": "code",
   "execution_count": 7,
   "metadata": {
    "collapsed": true
   },
   "outputs": [],
   "source": [
    "cache2 = defaultdict(int)\n",
    "def memo_test(func):\n",
    "    def _inner(*args):\n",
    "#         print(args[0])\n",
    "        if args[0] in cache2: result = cache2[args[0]]\n",
    "        else:\n",
    "#             print(cache)\n",
    "            cache2[args[0]] = func(args[0])\n",
    "            result = cache2[args[0]]\n",
    "        return result\n",
    "    return _inner"
   ]
  },
  {
   "cell_type": "code",
   "execution_count": 8,
   "metadata": {},
   "outputs": [],
   "source": [
    "@memo_test\n",
    "def r(n):\n",
    "    max_price, split_point = max(\n",
    "        [(price[n], 0)] + [(r(i) + r(n-i), i) for i in range(1, n)], key = lambda x: x[0]\n",
    "    )\n",
    "    \n",
    "    solution[n] = (split_point, n - split_point)\n",
    "    \n",
    "    return max_price"
   ]
  },
  {
   "cell_type": "code",
   "execution_count": 27,
   "metadata": {},
   "outputs": [
    {
     "data": {
      "text/plain": [
       "301"
      ]
     },
     "execution_count": 27,
     "metadata": {},
     "output_type": "execute_result"
    }
   ],
   "source": [
    "r(101)"
   ]
  },
  {
   "cell_type": "code",
   "execution_count": 22,
   "metadata": {},
   "outputs": [
    {
     "data": {
      "text/plain": [
       "(2, 16)"
      ]
     },
     "execution_count": 22,
     "metadata": {},
     "output_type": "execute_result"
    }
   ],
   "source": [
    "solution[18]"
   ]
  },
  {
   "cell_type": "markdown",
   "metadata": {},
   "source": [
    "### Dynamic Programming \n",
    "不断查表的意思\n",
    "+ 分析子问题的重复性\n",
    "+ 子问题要进行存储\n",
    "+ Solution要进行解析"
   ]
  },
  {
   "cell_type": "code",
   "execution_count": 19,
   "metadata": {
    "collapsed": true
   },
   "outputs": [],
   "source": [
    "def not_cut(spilt): return spilt == 0\n",
    "\n",
    "def parse_solution(target_length, revenue_solution):\n",
    "    left, right = revenue_solution[target_length]\n",
    "    \n",
    "    if not_cut(left): return [right]\n",
    "    \n",
    "    return parse_solution(left, revenue_solution) + parse_solution(right, revenue_solution)"
   ]
  },
  {
   "cell_type": "code",
   "execution_count": 28,
   "metadata": {},
   "outputs": [
    {
     "data": {
      "text/plain": [
       "[1, 10, 10, 10, 10, 10, 10, 10, 10, 10, 10]"
      ]
     },
     "execution_count": 28,
     "metadata": {},
     "output_type": "execute_result"
    }
   ],
   "source": [
    "parse_solution(101, solution)"
   ]
  },
  {
   "cell_type": "markdown",
   "metadata": {},
   "source": [
    "### 左边等于0就停止，然后返回右边，[2] + parse_solution(16)"
   ]
  },
  {
   "cell_type": "markdown",
   "metadata": {},
   "source": [
    "---"
   ]
  },
  {
   "cell_type": "markdown",
   "metadata": {},
   "source": [
    "# Edit Distance\n",
    "* Insertion\n",
    "* Deletion\n",
    "* Substitution"
   ]
  },
  {
   "cell_type": "code",
   "execution_count": 34,
   "metadata": {},
   "outputs": [],
   "source": [
    "from functools import lru_cache"
   ]
  },
  {
   "cell_type": "code",
   "execution_count": 59,
   "metadata": {
    "collapsed": true
   },
   "outputs": [],
   "source": [
    "@lru_cache(maxsize=2**10)\n",
    "def edit_distance(string1, string2):\n",
    "    \n",
    "    if len(string1) == 0: return len(string2)\n",
    "    if len(string2) == 0: return len(string1)\n",
    "    \n",
    "    tail_s1 = string1[-1]\n",
    "    tail_s2 = string2[-1]\n",
    "    \n",
    "    candidates = [\n",
    "        \n",
    "    ]\n",
    "    \n",
    "    return min(\n",
    "        edit_distance(string1[:-1], string2) + 1,\n",
    "        edit_distance(string1, string2[:-1]) + 1,\n",
    "        edit_distance(string1[:-1], string2[:-1]) + (2 if tail_s1 != tail_s2 else 0)\n",
    "    )"
   ]
  },
  {
   "cell_type": "code",
   "execution_count": 60,
   "metadata": {},
   "outputs": [
    {
     "data": {
      "text/plain": [
       "2"
      ]
     },
     "execution_count": 60,
     "metadata": {},
     "output_type": "execute_result"
    }
   ],
   "source": [
    "edit_distance('我今天确实不太想吃饭', '我今天确实不太像吃饭')"
   ]
  },
  {
   "cell_type": "code",
   "execution_count": 61,
   "metadata": {
    "collapsed": true
   },
   "outputs": [],
   "source": [
    "from icecream import ic"
   ]
  },
  {
   "cell_type": "code",
   "execution_count": 35,
   "metadata": {},
   "outputs": [],
   "source": [
    "th = 0\n",
    "@lru_cache(maxsize=2**10)\n",
    "def edit_distance(string1, string2):\n",
    "    \n",
    "    global th \n",
    "        \n",
    "    if len(string1) == 0: return len(string2)\n",
    "    if len(string2) == 0: return len(string1)\n",
    "    \n",
    "    tail_s1 = string1[-1]\n",
    "    tail_s2 = string2[-1]\n",
    "    \n",
    "    candidates = [\n",
    "        # 先运行第一步，string1先递归到最后，\n",
    "        (edit_distance(string1[:-1], string2) + 1, 'DEL {}'.format(tail_s1)),\n",
    "        (edit_distance(string1, string2[:-1]) + 1, 'ADD {}'.format(tail_s2)),\n",
    "    ]\n",
    "    \n",
    "    if tail_s1 == tail_s2:\n",
    "        both_forward = (edit_distance(string1[:-1], string2[:-1]) + 0, '')\n",
    "    else:\n",
    "        both_forward = (edit_distance(string1[:-1], string2[:-1]) + 2, 'SUB {} => {}'.format(tail_s1, tail_s2))\n",
    "    \n",
    "    candidates.append(both_forward)\n",
    "    \n",
    "    min_distance, operation = min(candidates, key=lambda x: x[0])\n",
    "    \n",
    "    th += 1\n",
    "    \n",
    "    ic(string1, string2, min_distance, operation, th)\n",
    "    \n",
    "    solution[(string1, string2)] = operation\n",
    "    \n",
    "    return min_distance"
   ]
  },
  {
   "cell_type": "code",
   "execution_count": 36,
   "metadata": {},
   "outputs": [
    {
     "name": "stderr",
     "output_type": "stream",
     "text": [
      "ic| string1: '1', string2: '1', min_distance: 0, operation: '', th: 1\n",
      "ic| string1: '1'\n",
      "    string2: '11'\n",
      "    min_distance: 1\n",
      "    operation: 'ADD 1'\n",
      "    th: 2\n",
      "ic| string1: '1'\n",
      "    string2: '110'\n",
      "    min_distance: 2\n",
      "    operation: 'ADD 0'\n",
      "    th: 3\n",
      "ic| string1: '10'\n",
      "    string2: '1'\n",
      "    min_distance: 1\n",
      "    operation: 'DEL 0'\n",
      "    th: 4\n",
      "ic| string1: '10'\n",
      "    string2: '11'\n",
      "    min_distance: 2\n",
      "    operation: 'DEL 0'\n",
      "    th: 5\n",
      "ic| string1: '10'\n",
      "    string2: '110'\n",
      "    min_distance: 1\n",
      "    operation: ''\n",
      "    th: 6\n",
      "ic| string1: '100'\n",
      "    string2: '1'\n",
      "    min_distance: 2\n",
      "    operation: 'DEL 0'\n",
      "    th: 7\n",
      "ic| string1: '100'\n",
      "    string2: '11'\n",
      "    min_distance: 3\n",
      "    operation: 'DEL 0'\n",
      "    th: 8\n",
      "ic| string1: '100'\n",
      "    string2: '110'\n",
      "    min_distance: 2\n",
      "    operation: 'DEL 0'\n",
      "    th: 9\n"
     ]
    },
    {
     "data": {
      "text/plain": [
       "2"
      ]
     },
     "execution_count": 36,
     "metadata": {},
     "output_type": "execute_result"
    }
   ],
   "source": [
    "edit_distance('100', '110')"
   ]
  },
  {
   "cell_type": "code",
   "execution_count": 174,
   "metadata": {},
   "outputs": [
    {
     "data": {
      "text/plain": [
       "{1: (0, 1),\n",
       " 2: (0, 2),\n",
       " 3: (0, 3),\n",
       " 4: (2, 2),\n",
       " 5: (2, 3),\n",
       " 6: (0, 6),\n",
       " 7: (1, 6),\n",
       " 8: (2, 6),\n",
       " 9: (3, 6),\n",
       " 10: (0, 10),\n",
       " 11: (1, 10),\n",
       " 12: (2, 10),\n",
       " 13: (3, 10),\n",
       " 14: (2, 12),\n",
       " 15: (2, 13),\n",
       " 16: (6, 10),\n",
       " 17: (1, 16),\n",
       " 18: (2, 16),\n",
       " 19: (3, 16),\n",
       " 20: (10, 10),\n",
       " 21: (1, 20),\n",
       " 22: (2, 20),\n",
       " 23: (3, 20),\n",
       " 24: (2, 22),\n",
       " 25: (2, 23),\n",
       " 26: (6, 20),\n",
       " 27: (1, 26),\n",
       " 28: (2, 26),\n",
       " 29: (3, 26),\n",
       " 30: (10, 20),\n",
       " 31: (1, 30),\n",
       " 32: (2, 30),\n",
       " 33: (3, 30),\n",
       " 34: (2, 32),\n",
       " 35: (2, 33),\n",
       " 36: (6, 30),\n",
       " 37: (1, 36),\n",
       " 38: (2, 36),\n",
       " 39: (3, 36),\n",
       " 40: (10, 30),\n",
       " 41: (1, 40),\n",
       " 42: (2, 40),\n",
       " 43: (3, 40),\n",
       " 44: (2, 42),\n",
       " 45: (2, 43),\n",
       " 46: (6, 40),\n",
       " 47: (1, 46),\n",
       " 48: (2, 46),\n",
       " 49: (3, 46),\n",
       " 50: (10, 40),\n",
       " 51: (1, 50),\n",
       " 52: (2, 50),\n",
       " 53: (3, 50),\n",
       " 54: (2, 52),\n",
       " 55: (2, 53),\n",
       " 56: (6, 50),\n",
       " 57: (1, 56),\n",
       " 58: (2, 56),\n",
       " 59: (3, 56),\n",
       " 60: (10, 50),\n",
       " 61: (1, 60),\n",
       " 62: (2, 60),\n",
       " 63: (3, 60),\n",
       " 64: (2, 62),\n",
       " 65: (2, 63),\n",
       " 66: (6, 60),\n",
       " 67: (1, 66),\n",
       " 68: (2, 66),\n",
       " 69: (3, 66),\n",
       " 70: (10, 60),\n",
       " 71: (1, 70),\n",
       " 72: (2, 70),\n",
       " 73: (3, 70),\n",
       " 74: (2, 72),\n",
       " 75: (2, 73),\n",
       " 76: (6, 70),\n",
       " 77: (1, 76),\n",
       " 78: (2, 76),\n",
       " 79: (3, 76),\n",
       " 80: (10, 70),\n",
       " 81: (1, 80),\n",
       " 82: (2, 80),\n",
       " 83: (3, 80),\n",
       " 84: (2, 82),\n",
       " 85: (2, 83),\n",
       " 86: (6, 80),\n",
       " 87: (1, 86),\n",
       " 88: (2, 86),\n",
       " 89: (3, 86),\n",
       " 90: (10, 80),\n",
       " 91: (1, 90),\n",
       " 92: (2, 90),\n",
       " 93: (3, 90),\n",
       " 94: (2, 92),\n",
       " 95: (2, 93),\n",
       " 96: (6, 90),\n",
       " 97: (1, 96),\n",
       " 98: (2, 96),\n",
       " 99: (3, 96),\n",
       " 100: (10, 90),\n",
       " 101: (1, 100),\n",
       " 102: (2, 100),\n",
       " 103: (3, 100),\n",
       " 104: (2, 102),\n",
       " 105: (2, 103),\n",
       " 106: (6, 100),\n",
       " 107: (1, 106),\n",
       " 108: (2, 106),\n",
       " 109: (3, 106),\n",
       " 110: (10, 100),\n",
       " 111: (1, 110),\n",
       " 112: (2, 110),\n",
       " 113: (3, 110),\n",
       " 114: (2, 112),\n",
       " 115: (2, 113),\n",
       " 116: (6, 110),\n",
       " 117: (1, 116),\n",
       " 118: (2, 116),\n",
       " 119: (3, 116),\n",
       " 120: (10, 110),\n",
       " 121: (1, 120),\n",
       " 122: (2, 120),\n",
       " 123: (3, 120),\n",
       " 124: (2, 122),\n",
       " 125: (2, 123),\n",
       " 126: (6, 120),\n",
       " 127: (1, 126),\n",
       " 128: (2, 126),\n",
       " 129: (3, 126),\n",
       " 130: (10, 120),\n",
       " 131: (1, 130),\n",
       " 132: (2, 130),\n",
       " 133: (3, 130),\n",
       " 134: (2, 132),\n",
       " 135: (2, 133),\n",
       " 136: (6, 130),\n",
       " 137: (1, 136),\n",
       " 138: (2, 136),\n",
       " 139: (3, 136),\n",
       " 140: (10, 130),\n",
       " 141: (1, 140),\n",
       " 142: (2, 140),\n",
       " 143: (3, 140),\n",
       " 144: (2, 142),\n",
       " 145: (2, 143),\n",
       " 146: (6, 140),\n",
       " 147: (1, 146),\n",
       " 148: (2, 146),\n",
       " 149: (3, 146),\n",
       " 150: (10, 140),\n",
       " 151: (1, 150),\n",
       " 152: (2, 150),\n",
       " 153: (3, 150),\n",
       " 154: (2, 152),\n",
       " 155: (2, 153),\n",
       " 156: (6, 150),\n",
       " 157: (1, 156),\n",
       " 158: (2, 156),\n",
       " 159: (3, 156),\n",
       " 160: (10, 150),\n",
       " 161: (1, 160),\n",
       " 162: (2, 160),\n",
       " 163: (3, 160),\n",
       " 164: (2, 162),\n",
       " 165: (2, 163),\n",
       " 166: (6, 160),\n",
       " 167: (1, 166),\n",
       " 168: (2, 166),\n",
       " 169: (3, 166),\n",
       " 170: (10, 160),\n",
       " 171: (1, 170),\n",
       " 172: (2, 170),\n",
       " 173: (3, 170),\n",
       " 174: (2, 172),\n",
       " 175: (2, 173),\n",
       " 176: (6, 170),\n",
       " 177: (1, 176),\n",
       " 178: (2, 176),\n",
       " 179: (3, 176),\n",
       " 180: (10, 170),\n",
       " 181: (1, 180),\n",
       " 182: (2, 180),\n",
       " 183: (3, 180),\n",
       " 184: (2, 182),\n",
       " 185: (2, 183),\n",
       " 186: (6, 180),\n",
       " 187: (1, 186),\n",
       " 188: (2, 186),\n",
       " 189: (3, 186),\n",
       " 190: (10, 180),\n",
       " 191: (1, 190),\n",
       " 192: (2, 190),\n",
       " 193: (3, 190),\n",
       " 194: (2, 192),\n",
       " 195: (2, 193),\n",
       " 196: (6, 190),\n",
       " 197: (1, 196),\n",
       " 198: (2, 196),\n",
       " 199: (3, 196),\n",
       " 200: (10, 190),\n",
       " 201: (1, 200),\n",
       " 202: (2, 200),\n",
       " 203: (3, 200),\n",
       " 204: (2, 202),\n",
       " 205: (2, 203),\n",
       " 206: (6, 200),\n",
       " 207: (1, 206),\n",
       " 208: (2, 206),\n",
       " 209: (3, 206),\n",
       " 210: (10, 200),\n",
       " 211: (1, 210),\n",
       " 212: (2, 210),\n",
       " 213: (3, 210),\n",
       " 214: (2, 212),\n",
       " 215: (2, 213),\n",
       " 216: (6, 210),\n",
       " 217: (1, 216),\n",
       " 218: (2, 216),\n",
       " 219: (3, 216),\n",
       " 220: (10, 210),\n",
       " 221: (1, 220),\n",
       " 222: (2, 220),\n",
       " 223: (3, 220),\n",
       " 224: (2, 222),\n",
       " 225: (2, 223),\n",
       " 226: (6, 220),\n",
       " 227: (1, 226),\n",
       " 228: (2, 226),\n",
       " 229: (3, 226),\n",
       " 230: (10, 220),\n",
       " 231: (1, 230),\n",
       " 232: (2, 230),\n",
       " 233: (3, 230),\n",
       " 234: (2, 232),\n",
       " 235: (2, 233),\n",
       " 236: (6, 230),\n",
       " 237: (1, 236),\n",
       " 238: (2, 236),\n",
       " 239: (3, 236),\n",
       " 240: (10, 230),\n",
       " 241: (1, 240),\n",
       " 242: (2, 240),\n",
       " 243: (3, 240),\n",
       " 244: (2, 242),\n",
       " 245: (2, 243),\n",
       " 246: (6, 240),\n",
       " 247: (1, 246),\n",
       " 248: (2, 246),\n",
       " 249: (3, 246),\n",
       " 250: (10, 240),\n",
       " 251: (1, 250),\n",
       " 252: (2, 250),\n",
       " 253: (3, 250),\n",
       " 254: (2, 252),\n",
       " 255: (2, 253),\n",
       " 256: (6, 250),\n",
       " 257: (1, 256),\n",
       " 258: (2, 256),\n",
       " 259: (3, 256),\n",
       " 260: (10, 250),\n",
       " 261: (1, 260),\n",
       " 262: (2, 260),\n",
       " 263: (3, 260),\n",
       " 264: (2, 262),\n",
       " 265: (2, 263),\n",
       " 266: (6, 260),\n",
       " 267: (1, 266),\n",
       " 268: (2, 266),\n",
       " 269: (3, 266),\n",
       " 270: (10, 260),\n",
       " 271: (1, 270),\n",
       " 272: (2, 270),\n",
       " 273: (3, 270),\n",
       " 274: (2, 272),\n",
       " 275: (2, 273),\n",
       " 276: (6, 270),\n",
       " 277: (1, 276),\n",
       " 278: (2, 276),\n",
       " 279: (3, 276),\n",
       " 280: (10, 270),\n",
       " 281: (1, 280),\n",
       " 282: (2, 280),\n",
       " 283: (3, 280),\n",
       " 284: (2, 282),\n",
       " 285: (2, 283),\n",
       " 286: (6, 280),\n",
       " 287: (1, 286),\n",
       " 288: (2, 286),\n",
       " 289: (3, 286),\n",
       " 290: (10, 280),\n",
       " 291: (1, 290),\n",
       " 292: (2, 290),\n",
       " 293: (3, 290),\n",
       " 294: (2, 292),\n",
       " 295: (2, 293),\n",
       " 296: (6, 290),\n",
       " 297: (1, 296),\n",
       " 298: (2, 296),\n",
       " 299: (3, 296),\n",
       " 300: (10, 290),\n",
       " 301: (1, 300),\n",
       " 302: (2, 300),\n",
       " 303: (3, 300),\n",
       " 304: (2, 302),\n",
       " 305: (2, 303),\n",
       " 306: (6, 300),\n",
       " 307: (1, 306),\n",
       " 308: (2, 306),\n",
       " 309: (3, 306),\n",
       " 310: (10, 300),\n",
       " 311: (1, 310),\n",
       " 312: (2, 310),\n",
       " 313: (3, 310),\n",
       " 314: (2, 312),\n",
       " 315: (2, 313),\n",
       " 316: (6, 310),\n",
       " 317: (1, 316),\n",
       " 318: (2, 316),\n",
       " 319: (3, 316),\n",
       " 320: (10, 310),\n",
       " 321: (1, 320),\n",
       " 322: (2, 320),\n",
       " 323: (3, 320),\n",
       " 324: (2, 322),\n",
       " 325: (2, 323),\n",
       " 326: (6, 320),\n",
       " 327: (1, 326),\n",
       " 328: (2, 326),\n",
       " 329: (3, 326),\n",
       " 330: (10, 320),\n",
       " 331: (1, 330),\n",
       " 332: (2, 330),\n",
       " 333: (3, 330),\n",
       " 334: (2, 332),\n",
       " 335: (2, 333),\n",
       " 336: (6, 330),\n",
       " 337: (1, 336),\n",
       " 338: (2, 336),\n",
       " 339: (3, 336),\n",
       " 340: (10, 330),\n",
       " 341: (1, 340),\n",
       " 342: (2, 340),\n",
       " 343: (3, 340),\n",
       " 344: (2, 342),\n",
       " 345: (2, 343),\n",
       " 346: (6, 340),\n",
       " 347: (1, 346),\n",
       " 348: (2, 346),\n",
       " 349: (3, 346),\n",
       " 350: (10, 340),\n",
       " 351: (1, 350),\n",
       " 352: (2, 350),\n",
       " 353: (3, 350),\n",
       " 354: (2, 352),\n",
       " 355: (2, 353),\n",
       " 356: (6, 350),\n",
       " 357: (1, 356),\n",
       " 358: (2, 356),\n",
       " 359: (3, 356),\n",
       " 360: (10, 350),\n",
       " 361: (1, 360),\n",
       " 362: (2, 360),\n",
       " 363: (3, 360),\n",
       " 364: (2, 362),\n",
       " 365: (2, 363),\n",
       " 366: (6, 360),\n",
       " 367: (1, 366),\n",
       " 368: (2, 366),\n",
       " 369: (3, 366),\n",
       " 370: (10, 360),\n",
       " 371: (1, 370),\n",
       " 372: (2, 370),\n",
       " 373: (3, 370),\n",
       " 374: (2, 372),\n",
       " 375: (2, 373),\n",
       " 376: (6, 370),\n",
       " 377: (1, 376),\n",
       " 378: (2, 376),\n",
       " 379: (3, 376),\n",
       " 380: (10, 370),\n",
       " 381: (1, 380),\n",
       " 382: (2, 380),\n",
       " 383: (3, 380),\n",
       " 384: (2, 382),\n",
       " 385: (2, 383),\n",
       " 386: (6, 380),\n",
       " 387: (1, 386),\n",
       " 388: (2, 386),\n",
       " 389: (3, 386),\n",
       " 390: (10, 380),\n",
       " 391: (1, 390),\n",
       " 392: (2, 390),\n",
       " 393: (3, 390),\n",
       " 394: (2, 392),\n",
       " 395: (2, 393),\n",
       " 396: (6, 390),\n",
       " 397: (1, 396),\n",
       " 398: (2, 396),\n",
       " 399: (3, 396),\n",
       " 400: (10, 390),\n",
       " ('1', '1'): '',\n",
       " ('1', '11'): 'ADD 1',\n",
       " ('1', '111'): 'ADD 1',\n",
       " ('1', '1110'): 'ADD 0',\n",
       " ('1', '11100'): 'ADD 0',\n",
       " ('10', '1'): 'DEL 0',\n",
       " ('10', '11'): 'DEL 0',\n",
       " ('10', '111'): 'DEL 0',\n",
       " ('10', '1110'): '',\n",
       " ('10', '11100'): 'ADD 0',\n",
       " ('101', '1'): 'DEL 1',\n",
       " ('101', '11'): '',\n",
       " ('101', '111'): 'ADD 1',\n",
       " ('101', '1110'): 'DEL 1',\n",
       " ('101', '11100'): 'DEL 1',\n",
       " ('1010', '1'): 'DEL 0',\n",
       " ('1010', '11'): 'DEL 0',\n",
       " ('1010', '111'): 'DEL 0',\n",
       " ('1010', '1110'): '',\n",
       " ('1010', '11100'): 'ADD 0'}"
      ]
     },
     "execution_count": 174,
     "metadata": {},
     "output_type": "execute_result"
    }
   ],
   "source": [
    "solution"
   ]
  },
  {
   "cell_type": "code",
   "execution_count": 69,
   "metadata": {},
   "outputs": [
    {
     "data": {
      "text/plain": [
       "{1: (0, 1),\n",
       " 2: (0, 2),\n",
       " 3: (0, 3),\n",
       " 4: (2, 2),\n",
       " 5: (2, 3),\n",
       " 6: (0, 6),\n",
       " 7: (1, 6),\n",
       " 8: (2, 6),\n",
       " 9: (3, 6),\n",
       " 10: (0, 10),\n",
       " 11: (1, 10),\n",
       " 12: (2, 10),\n",
       " 13: (3, 10),\n",
       " 14: (2, 12),\n",
       " 15: (2, 13),\n",
       " 16: (6, 10),\n",
       " 17: (1, 16),\n",
       " 18: (2, 16),\n",
       " 19: (3, 16),\n",
       " 20: (10, 10),\n",
       " 21: (1, 20),\n",
       " 22: (2, 20),\n",
       " 23: (3, 20),\n",
       " 24: (2, 22),\n",
       " 25: (2, 23),\n",
       " 26: (6, 20),\n",
       " 27: (1, 26),\n",
       " 28: (2, 26),\n",
       " 29: (3, 26),\n",
       " 30: (10, 20),\n",
       " 31: (1, 30),\n",
       " 32: (2, 30),\n",
       " 33: (3, 30),\n",
       " 34: (2, 32),\n",
       " 35: (2, 33),\n",
       " 36: (6, 30),\n",
       " 37: (1, 36),\n",
       " 38: (2, 36),\n",
       " 39: (3, 36),\n",
       " 40: (10, 30),\n",
       " 41: (1, 40),\n",
       " 42: (2, 40),\n",
       " 43: (3, 40),\n",
       " 44: (2, 42),\n",
       " 45: (2, 43),\n",
       " 46: (6, 40),\n",
       " 47: (1, 46),\n",
       " 48: (2, 46),\n",
       " 49: (3, 46),\n",
       " 50: (10, 40),\n",
       " 51: (1, 50),\n",
       " 52: (2, 50),\n",
       " 53: (3, 50),\n",
       " 54: (2, 52),\n",
       " 55: (2, 53),\n",
       " 56: (6, 50),\n",
       " 57: (1, 56),\n",
       " 58: (2, 56),\n",
       " 59: (3, 56),\n",
       " 60: (10, 50),\n",
       " 61: (1, 60),\n",
       " 62: (2, 60),\n",
       " 63: (3, 60),\n",
       " 64: (2, 62),\n",
       " 65: (2, 63),\n",
       " 66: (6, 60),\n",
       " 67: (1, 66),\n",
       " 68: (2, 66),\n",
       " 69: (3, 66),\n",
       " 70: (10, 60),\n",
       " 71: (1, 70),\n",
       " 72: (2, 70),\n",
       " 73: (3, 70),\n",
       " 74: (2, 72),\n",
       " 75: (2, 73),\n",
       " 76: (6, 70),\n",
       " 77: (1, 76),\n",
       " 78: (2, 76),\n",
       " 79: (3, 76),\n",
       " 80: (10, 70),\n",
       " 81: (1, 80),\n",
       " 82: (2, 80),\n",
       " 83: (3, 80),\n",
       " 84: (2, 82),\n",
       " 85: (2, 83),\n",
       " 86: (6, 80),\n",
       " 87: (1, 86),\n",
       " 88: (2, 86),\n",
       " 89: (3, 86),\n",
       " 90: (10, 80),\n",
       " 91: (1, 90),\n",
       " 92: (2, 90),\n",
       " 93: (3, 90),\n",
       " 94: (2, 92),\n",
       " 95: (2, 93),\n",
       " 96: (6, 90),\n",
       " 97: (1, 96),\n",
       " 98: (2, 96),\n",
       " 99: (3, 96),\n",
       " 100: (10, 90),\n",
       " ('1', '1'): '',\n",
       " ('1', '11'): 'ADD 1',\n",
       " ('1', '110'): 'ADD 0',\n",
       " ('10', '1'): 'DEL 0',\n",
       " ('10', '11'): 'DEL 0',\n",
       " ('10', '110'): '',\n",
       " ('100', '1'): 'DEL 0',\n",
       " ('100', '11'): 'DEL 0',\n",
       " ('100', '110'): 'DEL 0'}"
      ]
     },
     "execution_count": 69,
     "metadata": {},
     "output_type": "execute_result"
    }
   ],
   "source": [
    "solution"
   ]
  },
  {
   "cell_type": "code",
   "execution_count": 69,
   "metadata": {},
   "outputs": [
    {
     "data": {
      "text/plain": [
       "{1: (0, 1),\n",
       " 2: (0, 2),\n",
       " 3: (0, 3),\n",
       " 4: (2, 2),\n",
       " 5: (2, 3),\n",
       " 6: (0, 6),\n",
       " 7: (1, 6),\n",
       " 8: (2, 6),\n",
       " 9: (3, 6),\n",
       " 10: (0, 10),\n",
       " 11: (1, 10),\n",
       " 12: (2, 10),\n",
       " 13: (3, 10),\n",
       " 14: (2, 12),\n",
       " 15: (2, 13),\n",
       " 16: (6, 10),\n",
       " 17: (1, 16),\n",
       " 18: (2, 16),\n",
       " 19: (3, 16),\n",
       " 20: (10, 10),\n",
       " 21: (1, 20),\n",
       " 22: (2, 20),\n",
       " 23: (3, 20),\n",
       " 24: (2, 22),\n",
       " 25: (2, 23),\n",
       " 26: (6, 20),\n",
       " 27: (1, 26),\n",
       " 28: (2, 26),\n",
       " 29: (3, 26),\n",
       " 30: (10, 20),\n",
       " 31: (1, 30),\n",
       " 32: (2, 30),\n",
       " 33: (3, 30),\n",
       " 34: (2, 32),\n",
       " 35: (2, 33),\n",
       " 36: (6, 30),\n",
       " 37: (1, 36),\n",
       " 38: (2, 36),\n",
       " 39: (3, 36),\n",
       " 40: (10, 30),\n",
       " 41: (1, 40),\n",
       " 42: (2, 40),\n",
       " 43: (3, 40),\n",
       " 44: (2, 42),\n",
       " 45: (2, 43),\n",
       " 46: (6, 40),\n",
       " 47: (1, 46),\n",
       " 48: (2, 46),\n",
       " 49: (3, 46),\n",
       " 50: (10, 40),\n",
       " 51: (1, 50),\n",
       " 52: (2, 50),\n",
       " 53: (3, 50),\n",
       " 54: (2, 52),\n",
       " 55: (2, 53),\n",
       " 56: (6, 50),\n",
       " 57: (1, 56),\n",
       " 58: (2, 56),\n",
       " 59: (3, 56),\n",
       " 60: (10, 50),\n",
       " 61: (1, 60),\n",
       " 62: (2, 60),\n",
       " 63: (3, 60),\n",
       " 64: (2, 62),\n",
       " 65: (2, 63),\n",
       " 66: (6, 60),\n",
       " 67: (1, 66),\n",
       " 68: (2, 66),\n",
       " 69: (3, 66),\n",
       " 70: (10, 60),\n",
       " 71: (1, 70),\n",
       " 72: (2, 70),\n",
       " 73: (3, 70),\n",
       " 74: (2, 72),\n",
       " 75: (2, 73),\n",
       " 76: (6, 70),\n",
       " 77: (1, 76),\n",
       " 78: (2, 76),\n",
       " 79: (3, 76),\n",
       " 80: (10, 70),\n",
       " 81: (1, 80),\n",
       " 82: (2, 80),\n",
       " 83: (3, 80),\n",
       " 84: (2, 82),\n",
       " 85: (2, 83),\n",
       " 86: (6, 80),\n",
       " 87: (1, 86),\n",
       " 88: (2, 86),\n",
       " 89: (3, 86),\n",
       " 90: (10, 80),\n",
       " 91: (1, 90),\n",
       " 92: (2, 90),\n",
       " 93: (3, 90),\n",
       " 94: (2, 92),\n",
       " 95: (2, 93),\n",
       " 96: (6, 90),\n",
       " 97: (1, 96),\n",
       " 98: (2, 96),\n",
       " 99: (3, 96),\n",
       " 100: (10, 90),\n",
       " ('1', '1'): '',\n",
       " ('1', '11'): 'ADD 1',\n",
       " ('1', '110'): 'ADD 0',\n",
       " ('10', '1'): 'DEL 0',\n",
       " ('10', '11'): 'DEL 0',\n",
       " ('10', '110'): '',\n",
       " ('100', '1'): 'DEL 0',\n",
       " ('100', '11'): 'DEL 0',\n",
       " ('100', '110'): 'DEL 0'}"
      ]
     },
     "execution_count": 69,
     "metadata": {},
     "output_type": "execute_result"
    }
   ],
   "source": [
    "solution"
   ]
  },
  {
   "cell_type": "code",
   "execution_count": 69,
   "metadata": {
    "scrolled": false
   },
   "outputs": [
    {
     "data": {
      "text/plain": [
       "{1: (0, 1),\n",
       " 2: (0, 2),\n",
       " 3: (0, 3),\n",
       " 4: (2, 2),\n",
       " 5: (2, 3),\n",
       " 6: (0, 6),\n",
       " 7: (1, 6),\n",
       " 8: (2, 6),\n",
       " 9: (3, 6),\n",
       " 10: (0, 10),\n",
       " 11: (1, 10),\n",
       " 12: (2, 10),\n",
       " 13: (3, 10),\n",
       " 14: (2, 12),\n",
       " 15: (2, 13),\n",
       " 16: (6, 10),\n",
       " 17: (1, 16),\n",
       " 18: (2, 16),\n",
       " 19: (3, 16),\n",
       " 20: (10, 10),\n",
       " 21: (1, 20),\n",
       " 22: (2, 20),\n",
       " 23: (3, 20),\n",
       " 24: (2, 22),\n",
       " 25: (2, 23),\n",
       " 26: (6, 20),\n",
       " 27: (1, 26),\n",
       " 28: (2, 26),\n",
       " 29: (3, 26),\n",
       " 30: (10, 20),\n",
       " 31: (1, 30),\n",
       " 32: (2, 30),\n",
       " 33: (3, 30),\n",
       " 34: (2, 32),\n",
       " 35: (2, 33),\n",
       " 36: (6, 30),\n",
       " 37: (1, 36),\n",
       " 38: (2, 36),\n",
       " 39: (3, 36),\n",
       " 40: (10, 30),\n",
       " 41: (1, 40),\n",
       " 42: (2, 40),\n",
       " 43: (3, 40),\n",
       " 44: (2, 42),\n",
       " 45: (2, 43),\n",
       " 46: (6, 40),\n",
       " 47: (1, 46),\n",
       " 48: (2, 46),\n",
       " 49: (3, 46),\n",
       " 50: (10, 40),\n",
       " 51: (1, 50),\n",
       " 52: (2, 50),\n",
       " 53: (3, 50),\n",
       " 54: (2, 52),\n",
       " 55: (2, 53),\n",
       " 56: (6, 50),\n",
       " 57: (1, 56),\n",
       " 58: (2, 56),\n",
       " 59: (3, 56),\n",
       " 60: (10, 50),\n",
       " 61: (1, 60),\n",
       " 62: (2, 60),\n",
       " 63: (3, 60),\n",
       " 64: (2, 62),\n",
       " 65: (2, 63),\n",
       " 66: (6, 60),\n",
       " 67: (1, 66),\n",
       " 68: (2, 66),\n",
       " 69: (3, 66),\n",
       " 70: (10, 60),\n",
       " 71: (1, 70),\n",
       " 72: (2, 70),\n",
       " 73: (3, 70),\n",
       " 74: (2, 72),\n",
       " 75: (2, 73),\n",
       " 76: (6, 70),\n",
       " 77: (1, 76),\n",
       " 78: (2, 76),\n",
       " 79: (3, 76),\n",
       " 80: (10, 70),\n",
       " 81: (1, 80),\n",
       " 82: (2, 80),\n",
       " 83: (3, 80),\n",
       " 84: (2, 82),\n",
       " 85: (2, 83),\n",
       " 86: (6, 80),\n",
       " 87: (1, 86),\n",
       " 88: (2, 86),\n",
       " 89: (3, 86),\n",
       " 90: (10, 80),\n",
       " 91: (1, 90),\n",
       " 92: (2, 90),\n",
       " 93: (3, 90),\n",
       " 94: (2, 92),\n",
       " 95: (2, 93),\n",
       " 96: (6, 90),\n",
       " 97: (1, 96),\n",
       " 98: (2, 96),\n",
       " 99: (3, 96),\n",
       " 100: (10, 90),\n",
       " ('1', '1'): '',\n",
       " ('1', '11'): 'ADD 1',\n",
       " ('1', '110'): 'ADD 0',\n",
       " ('10', '1'): 'DEL 0',\n",
       " ('10', '11'): 'DEL 0',\n",
       " ('10', '110'): '',\n",
       " ('100', '1'): 'DEL 0',\n",
       " ('100', '11'): 'DEL 0',\n",
       " ('100', '110'): 'DEL 0'}"
      ]
     },
     "execution_count": 69,
     "metadata": {},
     "output_type": "execute_result"
    }
   ],
   "source": [
    "solution"
   ]
  },
  {
   "cell_type": "markdown",
   "metadata": {},
   "source": [
    "---"
   ]
  },
  {
   "cell_type": "markdown",
   "metadata": {},
   "source": [
    "### 解决蚂蚁走路问题"
   ]
  },
  {
   "cell_type": "code",
   "execution_count": 41,
   "metadata": {
    "collapsed": true
   },
   "outputs": [],
   "source": [
    "input1 = '''\n",
    "5\n",
    "1\n",
    "6 3\n",
    "8 2 6\n",
    "2 1 6 5\n",
    "3 2 4 7 6\n",
    "'''"
   ]
  },
  {
   "cell_type": "code",
   "execution_count": 74,
   "metadata": {},
   "outputs": [
    {
     "data": {
      "text/plain": [
       "array([[0, 0, 0, 0, 0],\n",
       "       [0, 0, 0, 0, 0],\n",
       "       [0, 0, 0, 0, 0],\n",
       "       [0, 0, 0, 0, 0],\n",
       "       [0, 0, 0, 0, 0]])"
      ]
     },
     "execution_count": 74,
     "metadata": {},
     "output_type": "execute_result"
    }
   ],
   "source": [
    "import numpy as np\n",
    "store = np.zeros((5,5), int)\n",
    "store"
   ]
  },
  {
   "cell_type": "code",
   "execution_count": 75,
   "metadata": {},
   "outputs": [
    {
     "name": "stderr",
     "output_type": "stream",
     "text": [
      "ic| i: 2\n",
      "    j: 0\n",
      "    store: array([[0, 0, 0, 0, 0],\n",
      "                  [0, 0, 0, 0, 0],\n",
      "                  [0, 0, 0, 0, 0],\n",
      "                  [0, 0, 0, 0, 0],\n",
      "                  [0, 0, 0, 0, 0]])\n",
      "ic| i: 3\n",
      "    j: 0\n",
      "    store: array([[1, 0, 0, 0, 0],\n",
      "                  [0, 0, 0, 0, 0],\n",
      "                  [0, 0, 0, 0, 0],\n",
      "                  [0, 0, 0, 0, 0],\n",
      "                  [0, 0, 0, 0, 0]])\n",
      "ic| i: 3\n",
      "    j: 1\n",
      "    store: array([[1, 0, 0, 0, 0],\n",
      "                  [6, 0, 0, 0, 0],\n",
      "                  [0, 0, 0, 0, 0],\n",
      "                  [0, 0, 0, 0, 0],\n",
      "                  [0, 0, 0, 0, 0]])\n",
      "ic| i: 4\n",
      "    j: 0\n",
      "    store: array([[1, 0, 0, 0, 0],\n",
      "                  [6, 3, 0, 0, 0],\n",
      "                  [0, 0, 0, 0, 0],\n",
      "                  [0, 0, 0, 0, 0],\n",
      "                  [0, 0, 0, 0, 0]])\n",
      "ic| i: 4\n",
      "    j: 1\n",
      "    store: array([[1, 0, 0, 0, 0],\n",
      "                  [6, 3, 0, 0, 0],\n",
      "                  [8, 0, 0, 0, 0],\n",
      "                  [0, 0, 0, 0, 0],\n",
      "                  [0, 0, 0, 0, 0]])\n",
      "ic| i: 4\n",
      "    j: 2\n",
      "    store: array([[1, 0, 0, 0, 0],\n",
      "                  [6, 3, 0, 0, 0],\n",
      "                  [8, 2, 0, 0, 0],\n",
      "                  [0, 0, 0, 0, 0],\n",
      "                  [0, 0, 0, 0, 0]])\n",
      "ic| i: 5\n",
      "    j: 0\n",
      "    store: array([[1, 0, 0, 0, 0],\n",
      "                  [6, 3, 0, 0, 0],\n",
      "                  [8, 2, 6, 0, 0],\n",
      "                  [0, 0, 0, 0, 0],\n",
      "                  [0, 0, 0, 0, 0]])\n",
      "ic| i: 5\n",
      "    j: 1\n",
      "    store: array([[1, 0, 0, 0, 0],\n",
      "                  [6, 3, 0, 0, 0],\n",
      "                  [8, 2, 6, 0, 0],\n",
      "                  [2, 0, 0, 0, 0],\n",
      "                  [0, 0, 0, 0, 0]])\n",
      "ic| i: 5\n",
      "    j: 2\n",
      "    store: array([[1, 0, 0, 0, 0],\n",
      "                  [6, 3, 0, 0, 0],\n",
      "                  [8, 2, 6, 0, 0],\n",
      "                  [2, 1, 0, 0, 0],\n",
      "                  [0, 0, 0, 0, 0]])\n",
      "ic| i: 5\n",
      "    j: 3\n",
      "    store: array([[1, 0, 0, 0, 0],\n",
      "                  [6, 3, 0, 0, 0],\n",
      "                  [8, 2, 6, 0, 0],\n",
      "                  [2, 1, 6, 0, 0],\n",
      "                  [0, 0, 0, 0, 0]])\n",
      "ic| i: 6\n",
      "    j: 0\n",
      "    store: array([[1, 0, 0, 0, 0],\n",
      "                  [6, 3, 0, 0, 0],\n",
      "                  [8, 2, 6, 0, 0],\n",
      "                  [2, 1, 6, 5, 0],\n",
      "                  [0, 0, 0, 0, 0]])\n",
      "ic| i: 6\n",
      "    j: 1\n",
      "    store: array([[1, 0, 0, 0, 0],\n",
      "                  [6, 3, 0, 0, 0],\n",
      "                  [8, 2, 6, 0, 0],\n",
      "                  [2, 1, 6, 5, 0],\n",
      "                  [3, 0, 0, 0, 0]])\n",
      "ic| i: 6\n",
      "    j: 2\n",
      "    store: array([[1, 0, 0, 0, 0],\n",
      "                  [6, 3, 0, 0, 0],\n",
      "                  [8, 2, 6, 0, 0],\n",
      "                  [2, 1, 6, 5, 0],\n",
      "                  [3, 2, 0, 0, 0]])\n",
      "ic| i: 6\n",
      "    j: 3\n",
      "    store: array([[1, 0, 0, 0, 0],\n",
      "                  [6, 3, 0, 0, 0],\n",
      "                  [8, 2, 6, 0, 0],\n",
      "                  [2, 1, 6, 5, 0],\n",
      "                  [3, 2, 4, 0, 0]])\n",
      "ic| i: 6\n",
      "    j: 4\n",
      "    store: array([[1, 0, 0, 0, 0],\n",
      "                  [6, 3, 0, 0, 0],\n",
      "                  [8, 2, 6, 0, 0],\n",
      "                  [2, 1, 6, 5, 0],\n",
      "                  [3, 2, 4, 7, 0]])\n"
     ]
    }
   ],
   "source": [
    "nums = defaultdict(list)\n",
    "for i, p in enumerate(input1.split('\\n')):\n",
    "    if not p: continue\n",
    "    p = p.strip()\n",
    "    if i == 1: size = p\n",
    "    else:\n",
    "        for j, k in enumerate(p.split()):\n",
    "            ic(i, j, store)\n",
    "            store[i-2][j] = k\n",
    "# print(len(input1.split('\\n')))"
   ]
  },
  {
   "cell_type": "code",
   "execution_count": 76,
   "metadata": {
    "scrolled": true
   },
   "outputs": [
    {
     "data": {
      "text/plain": [
       "array([[1, 0, 0, 0, 0],\n",
       "       [6, 3, 0, 0, 0],\n",
       "       [8, 2, 6, 0, 0],\n",
       "       [2, 1, 6, 5, 0],\n",
       "       [3, 2, 4, 7, 6]])"
      ]
     },
     "execution_count": 76,
     "metadata": {},
     "output_type": "execute_result"
    }
   ],
   "source": [
    "store"
   ]
  },
  {
   "cell_type": "markdown",
   "metadata": {},
   "source": [
    "### 递归解法"
   ]
  },
  {
   "cell_type": "code",
   "execution_count": 132,
   "metadata": {
    "collapsed": true
   },
   "outputs": [],
   "source": [
    "times = 0\n",
    "def find_max(a, b):\n",
    "    global times\n",
    "    if a == 4: return store[a][b]\n",
    "    times += 1\n",
    "    ic(times)\n",
    "    return store[a][b] + max(find_max(a+1,b), find_max(a+1, b+1))"
   ]
  },
  {
   "cell_type": "code",
   "execution_count": 133,
   "metadata": {},
   "outputs": [
    {
     "name": "stderr",
     "output_type": "stream",
     "text": [
      "ic| times: 1\n",
      "ic| times: 2\n",
      "ic| times: 3\n",
      "ic| times: 4\n",
      "ic| times: 5\n",
      "ic| times: 6\n",
      "ic| times: 7\n",
      "ic| times: 8\n",
      "ic| times: 9\n",
      "ic| times: 10\n",
      "ic| times: 11\n",
      "ic| times: 12\n",
      "ic| times: 13\n",
      "ic| times: 14\n",
      "ic| times: 15\n"
     ]
    },
    {
     "data": {
      "text/plain": [
       "23"
      ]
     },
     "execution_count": 133,
     "metadata": {},
     "output_type": "execute_result"
    }
   ],
   "source": [
    "find_max(0, 0)   #此方法计算15次"
   ]
  },
  {
   "cell_type": "markdown",
   "metadata": {},
   "source": [
    "### 记忆搜索优化算法"
   ]
  },
  {
   "cell_type": "code",
   "execution_count": 96,
   "metadata": {
    "collapsed": true
   },
   "outputs": [],
   "source": [
    "dp = defaultdict()\n",
    "def memo_for_ant(func):\n",
    "    def _wrap(*args):\n",
    "        if args in dp: return dp[args]\n",
    "        else:\n",
    "            result = func(*args)\n",
    "            dp[args] = result\n",
    "        return result\n",
    "    return _wrap"
   ]
  },
  {
   "cell_type": "code",
   "execution_count": 97,
   "metadata": {
    "collapsed": true
   },
   "outputs": [],
   "source": [
    "import time"
   ]
  },
  {
   "cell_type": "code",
   "execution_count": 170,
   "metadata": {},
   "outputs": [],
   "source": [
    "times = 0\n",
    "@memo_for_ant\n",
    "def find_max(a, b):\n",
    "    global times\n",
    "    if a == 4: return store[a][b]\n",
    "    times += 1\n",
    "    ic(times)\n",
    "    return store[a][b] + max(find_max(a+1,b), find_max(a+1, b+1))"
   ]
  },
  {
   "cell_type": "code",
   "execution_count": 171,
   "metadata": {},
   "outputs": [
    {
     "name": "stderr",
     "output_type": "stream",
     "text": [
      "ic| times: 1\n",
      "ic| times: 2\n",
      "ic| times: 3\n",
      "ic| times: 4\n",
      "ic| times: 5\n",
      "ic| times: 6\n",
      "ic| times: 7\n",
      "ic| times: 8\n",
      "ic| times: 9\n",
      "ic| times: 10\n"
     ]
    },
    {
     "data": {
      "text/plain": [
       "23"
      ]
     },
     "execution_count": 171,
     "metadata": {},
     "output_type": "execute_result"
    }
   ],
   "source": [
    "find_max(0, 0) # c此方法只计算了10次"
   ]
  },
  {
   "cell_type": "code",
   "execution_count": 168,
   "metadata": {
    "collapsed": true
   },
   "outputs": [],
   "source": [
    "dp = {}"
   ]
  },
  {
   "cell_type": "markdown",
   "metadata": {},
   "source": [
    "为什么会产生重复值: 因为比如算a[2][0]要算a[3][0]和a[3][1]，a[2][1]要算a[3][1]和a[3][2]这里就有重复的a[3][1]"
   ]
  },
  {
   "cell_type": "markdown",
   "metadata": {},
   "source": [
    "---"
   ]
  },
  {
   "cell_type": "markdown",
   "metadata": {},
   "source": [
    "### 深度优先搜索"
   ]
  },
  {
   "cell_type": "code",
   "execution_count": 172,
   "metadata": {},
   "outputs": [],
   "source": [
    "sum_1 = 0\n",
    "Max = 0\n",
    "def dfs(a, b):\n",
    "#     ic(a,b,sum_1)\n",
    "    global sum_1\n",
    "    global Max\n",
    "    ic(a,b,sum_1)\n",
    "    sum_1 += store[a][b]  # 去到就加\n",
    "    if a==4: \n",
    "        Max = sum_1 if sum_1 > Max else Max\n",
    "        return Max\n",
    "    for i in range(0, 2):\n",
    "        dfs(a+1, b+i)\n",
    "        sum_1 -= store[a+1][b+i]"
   ]
  },
  {
   "cell_type": "code",
   "execution_count": 173,
   "metadata": {},
   "outputs": [
    {
     "name": "stderr",
     "output_type": "stream",
     "text": [
      "ic| a: 0, b: 0, sum_1: 0\n",
      "ic| a: 1, b: 0, sum_1: 1\n",
      "ic| a: 2, b: 0, sum_1: 7\n",
      "ic| a: 3, b: 0, sum_1: 15\n",
      "ic| a: 4, b: 0, sum_1: 17\n",
      "ic| a: 4, b: 1, sum_1: 17\n",
      "ic| a: 3, b: 1, sum_1: 15\n",
      "ic| a: 4, b: 1, sum_1: 16\n",
      "ic| a: 4, b: 2, sum_1: 16\n",
      "ic| a: 2, b: 1, sum_1: 7\n",
      "ic| a: 3, b: 1, sum_1: 9\n",
      "ic| a: 4, b: 1, sum_1: 10\n",
      "ic| a: 4, b: 2, sum_1: 10\n",
      "ic| a: 3, b: 2, sum_1: 9\n",
      "ic| a: 4, b: 2, sum_1: 15\n",
      "ic| a: 4, b: 3, sum_1: 15\n",
      "ic| a: 1, b: 1, sum_1: 1\n",
      "ic| a: 2, b: 1, sum_1: 4\n",
      "ic| a: 3, b: 1, sum_1: 6\n",
      "ic| a: 4, b: 1, sum_1: 7\n",
      "ic| a: 4, b: 2, sum_1: 7\n",
      "ic| a: 3, b: 2, sum_1: 6\n",
      "ic| a: 4, b: 2, sum_1: 12\n",
      "ic| a: 4, b: 3, sum_1: 12\n",
      "ic| a: 2, b: 2, sum_1: 4\n",
      "ic| a: 3, b: 2, sum_1: 10\n",
      "ic| a: 4, b: 2, sum_1: 16\n",
      "ic| a: 4, b: 3, sum_1: 16\n",
      "ic| a: 3, b: 3, sum_1: 10\n",
      "ic| a: 4, b: 3, sum_1: 15\n",
      "ic| a: 4, b: 4, sum_1: 15\n"
     ]
    }
   ],
   "source": [
    "dfs(0, 0)"
   ]
  },
  {
   "cell_type": "code",
   "execution_count": null,
   "metadata": {
    "collapsed": true
   },
   "outputs": [],
   "source": []
  }
 ],
 "metadata": {
  "kernelspec": {
   "display_name": "Python 3",
   "language": "python",
   "name": "python3"
  },
  "language_info": {
   "codemirror_mode": {
    "name": "ipython",
    "version": 3
   },
   "file_extension": ".py",
   "mimetype": "text/x-python",
   "name": "python",
   "nbconvert_exporter": "python",
   "pygments_lexer": "ipython3",
   "version": "3.6.1"
  }
 },
 "nbformat": 4,
 "nbformat_minor": 2
}
