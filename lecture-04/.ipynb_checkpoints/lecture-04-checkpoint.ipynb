{
 "cells": [
  {
   "cell_type": "markdown",
   "metadata": {},
   "source": [
    "# 课堂随记"
   ]
  },
  {
   "cell_type": "markdown",
   "metadata": {},
   "source": [
    "## Books"
   ]
  },
  {
   "cell_type": "markdown",
   "metadata": {},
   "source": [
    "### 3.SICP | 1.Artificial Intelligence A Modern Approach | 2.Programming Pearls | 4.Fluent Python | W"
   ]
  },
  {
   "cell_type": "markdown",
   "metadata": {},
   "source": [
    "### Build a Modern Computer from First principles: from nerd to Tetris"
   ]
  },
  {
   "cell_type": "markdown",
   "metadata": {},
   "source": [
    "# NIPS ACL ICML ICLR AAAI"
   ]
  },
  {
   "cell_type": "markdown",
   "metadata": {
    "collapsed": true
   },
   "source": [
    "1.Words -> 2.Entity -> 3.Syntax -> 4.Semantic -> 5.Dialogue -> 6.Reading Comprehension -> 7.Generation -> 8.Representation + Policy -> 1.Words"
   ]
  },
  {
   "cell_type": "markdown",
   "metadata": {},
   "source": [
    "目前对话系统主要基于搜索，核心点是语义匹配"
   ]
  },
  {
   "cell_type": "markdown",
   "metadata": {},
   "source": [
    "Reading Comprehension 也可以做自动摘要"
   ]
  },
  {
   "cell_type": "markdown",
   "metadata": {},
   "source": [
    "Generation 可以做财务报表自动生成"
   ]
  },
  {
   "cell_type": "markdown",
   "metadata": {},
   "source": [
    "AI ：  \n",
    "1. Representation 表征  \n",
    "2. policy 计算"
   ]
  },
  {
   "cell_type": "markdown",
   "metadata": {},
   "source": [
    "why NLP？\n",
    "* Information Chaos  \n",
    "* Unstructured (单词和句子如何表征现在仍然解决不了，但作了很好的尝试:word2vec)\n",
    "* Discrete（数据是不连续的）\n",
    "* Unconventional(语言是不常规的，图像则不会）\n",
    "* OOV（out of vocabulary)"
   ]
  },
  {
   "cell_type": "markdown",
   "metadata": {},
   "source": [
    "---"
   ]
  },
  {
   "cell_type": "markdown",
   "metadata": {},
   "source": [
    "## 数组压平实现"
   ]
  },
  {
   "cell_type": "markdown",
   "metadata": {},
   "source": [
    "### itertools"
   ]
  },
  {
   "cell_type": "code",
   "execution_count": 118,
   "metadata": {},
   "outputs": [
    {
     "data": {
      "text/plain": [
       "['a', 'b', 'c', ['d', 'e']]"
      ]
     },
     "execution_count": 118,
     "metadata": {},
     "output_type": "execute_result"
    }
   ],
   "source": [
    "import itertools\n",
    "a = [\"a\", \"b\", [\"c\", [\"d\", \"e\"]]]\n",
    "out = list(itertools.chain.from_iterable(a))\n",
    "out"
   ]
  },
  {
   "cell_type": "markdown",
   "metadata": {},
   "source": [
    "### 函数递归实现"
   ]
  },
  {
   "cell_type": "code",
   "execution_count": 89,
   "metadata": {
    "collapsed": true
   },
   "outputs": [],
   "source": [
    "from icecream import ic\n",
    "def flatten_list(l):\n",
    "    ic(l)\n",
    "    output = []\n",
    "    for i in l:\n",
    "        if type(i) == list:\n",
    "            output+=flatten_list(i)  # 一般遇到list的情况下递归\n",
    "        else:\n",
    "            output.append(i)  #递归到最底层时的条件\n",
    "    ic(output)\n",
    "    return output"
   ]
  },
  {
   "cell_type": "code",
   "execution_count": 90,
   "metadata": {},
   "outputs": [
    {
     "name": "stderr",
     "output_type": "stream",
     "text": [
      "ic| l: [1, [2, 3, [4, 5]]]\n",
      "ic| l: [2, 3, [4, 5]]\n",
      "ic| l: [4, 5]\n",
      "ic| output: [4, 5]\n",
      "ic| output: [2, 3, 4, 5]\n",
      "ic| output: [1, 2, 3, 4, 5]\n"
     ]
    },
    {
     "data": {
      "text/plain": [
       "[1, 2, 3, 4, 5]"
      ]
     },
     "execution_count": 90,
     "metadata": {},
     "output_type": "execute_result"
    }
   ],
   "source": [
    "flatten_list([1, [2, 3,[4, 5]]])"
   ]
  },
  {
   "cell_type": "markdown",
   "metadata": {},
   "source": [
    "### lambda表达式递归实现"
   ]
  },
  {
   "cell_type": "code",
   "execution_count": 93,
   "metadata": {
    "collapsed": true
   },
   "outputs": [],
   "source": [
    "flatten = lambda x: [y for l in x for y in flatten(l)] if type(x) in [tuple, list] else [x] "
   ]
  },
  {
   "cell_type": "code",
   "execution_count": 94,
   "metadata": {},
   "outputs": [
    {
     "data": {
      "text/plain": [
       "[1, 2, 3, 4, 5, 6, 7, 8, 9]"
      ]
     },
     "execution_count": 94,
     "metadata": {},
     "output_type": "execute_result"
    }
   ],
   "source": [
    "flatten(a)"
   ]
  },
  {
   "cell_type": "code",
   "execution_count": 100,
   "metadata": {
    "collapsed": true
   },
   "outputs": [],
   "source": [
    "flat = lambda L: sum(map(flat, L), []) if isinstance(L, list) else [L]"
   ]
  },
  {
   "cell_type": "code",
   "execution_count": 101,
   "metadata": {
    "scrolled": true
   },
   "outputs": [
    {
     "data": {
      "text/plain": [
       "[1, 2, 3, 4, 5, 6, (7, 8), 9]"
      ]
     },
     "execution_count": 101,
     "metadata": {},
     "output_type": "execute_result"
    }
   ],
   "source": [
    "flat(a)"
   ]
  },
  {
   "cell_type": "markdown",
   "metadata": {},
   "source": [
    "---"
   ]
  },
  {
   "cell_type": "markdown",
   "metadata": {},
   "source": [
    "## Dynamic Programming for cutting problem\n",
    "* Rob Cutting Problem\n",
    "* Edit-Distance Problem\n",
    "* Key Characteristics for Dynamic Programming\n",
    "* The Travel Salesman Problem"
   ]
  },
  {
   "cell_type": "code",
   "execution_count": 1,
   "metadata": {
    "collapsed": true
   },
   "outputs": [],
   "source": [
    "original_price = [1, 5, 8, 9, 10, 17, 17, 20, 24, 30]"
   ]
  },
  {
   "cell_type": "code",
   "execution_count": 2,
   "metadata": {
    "collapsed": true
   },
   "outputs": [],
   "source": [
    "from collections import defaultdict"
   ]
  },
  {
   "cell_type": "code",
   "execution_count": 3,
   "metadata": {
    "collapsed": true
   },
   "outputs": [],
   "source": [
    "price = defaultdict(int)"
   ]
  },
  {
   "cell_type": "code",
   "execution_count": 4,
   "metadata": {
    "collapsed": true
   },
   "outputs": [],
   "source": [
    "for i, p in enumerate(original_price):\n",
    "    price[i+1] = p"
   ]
  },
  {
   "cell_type": "code",
   "execution_count": 5,
   "metadata": {
    "collapsed": true
   },
   "outputs": [],
   "source": [
    "assert price[1] == 1"
   ]
  },
  {
   "cell_type": "code",
   "execution_count": 75,
   "metadata": {
    "collapsed": true
   },
   "outputs": [],
   "source": [
    "def r(n):\n",
    "    return max(\n",
    "        [price[n]] + [r(i) + r(n-i) for i in range(1, n)]\n",
    "#         [r(n) + r(0)] + [r(i) + r(n-i) for i in range(1, n)]  这样递归会没有出口\n",
    "    )"
   ]
  },
  {
   "cell_type": "code",
   "execution_count": 76,
   "metadata": {},
   "outputs": [
    {
     "data": {
      "text/plain": [
       "0"
      ]
     },
     "execution_count": 76,
     "metadata": {},
     "output_type": "execute_result"
    }
   ],
   "source": [
    "price[132]  # 说明肯定要拆分"
   ]
  },
  {
   "cell_type": "code",
   "execution_count": 19,
   "metadata": {},
   "outputs": [
    {
     "data": {
      "text/plain": [
       "22"
      ]
     },
     "execution_count": 19,
     "metadata": {},
     "output_type": "execute_result"
    }
   ],
   "source": [
    "r(8)"
   ]
  },
  {
   "cell_type": "code",
   "execution_count": 78,
   "metadata": {
    "collapsed": true
   },
   "outputs": [],
   "source": [
    "# !mv 图片路径 .  "
   ]
  },
  {
   "cell_type": "code",
   "execution_count": 10,
   "metadata": {
    "collapsed": true
   },
   "outputs": [],
   "source": [
    "solution = {}"
   ]
  },
  {
   "cell_type": "code",
   "execution_count": 80,
   "metadata": {
    "collapsed": true
   },
   "outputs": [],
   "source": [
    "from functools import lru_cache"
   ]
  },
  {
   "cell_type": "code",
   "execution_count": 81,
   "metadata": {
    "collapsed": true
   },
   "outputs": [],
   "source": [
    "@lru_cache(maxsize=2**10)\n",
    "def r(n):\n",
    "    max_price, split_point = max(\n",
    "        [(price[n], 0)] + [(r(i) + r(n-i), i) for i in range(1, n)], key = lambda x: x[0]\n",
    "    )\n",
    "    solution[n] = (split_point, n - split_point)\n",
    "    return max_price"
   ]
  },
  {
   "cell_type": "code",
   "execution_count": 82,
   "metadata": {
    "collapsed": true
   },
   "outputs": [],
   "source": [
    "solution = {}"
   ]
  },
  {
   "cell_type": "code",
   "execution_count": 84,
   "metadata": {},
   "outputs": [
    {
     "data": {
      "text/plain": [
       "300"
      ]
     },
     "execution_count": 84,
     "metadata": {},
     "output_type": "execute_result"
    }
   ],
   "source": [
    "r(100)"
   ]
  },
  {
   "cell_type": "code",
   "execution_count": 85,
   "metadata": {
    "collapsed": true
   },
   "outputs": [],
   "source": [
    "def fun_1(n):\n",
    "\n",
    "    for i in range(n):\n",
    "        print(n)\n"
   ]
  },
  {
   "cell_type": "code",
   "execution_count": 86,
   "metadata": {
    "collapsed": true
   },
   "outputs": [],
   "source": [
    "import time"
   ]
  },
  {
   "cell_type": "code",
   "execution_count": 87,
   "metadata": {
    "collapsed": true
   },
   "outputs": [],
   "source": [
    "def func_slow(n):\n",
    "    start = time.time()\n",
    "    for i in range(n):\n",
    "        time.sleep(0.2)\n",
    "        print(n)\n",
    "    print('used time: {}'.format(time.time() -  start))"
   ]
  },
  {
   "cell_type": "code",
   "execution_count": 88,
   "metadata": {},
   "outputs": [
    {
     "name": "stdout",
     "output_type": "stream",
     "text": [
      "5\n",
      "5\n",
      "5\n",
      "5\n",
      "5\n",
      "used time: 1.0232460498809814\n"
     ]
    }
   ],
   "source": [
    "func_slow(5)"
   ]
  },
  {
   "cell_type": "code",
   "execution_count": 89,
   "metadata": {
    "collapsed": true
   },
   "outputs": [],
   "source": [
    "def call_time(fun_1, arg): # 脚手架程序\n",
    "    start = time.time()\n",
    "    fun_1(arg)\n",
    "    print('used time: {}'.format(time.time() -  start))"
   ]
  },
  {
   "cell_type": "code",
   "execution_count": 90,
   "metadata": {},
   "outputs": [
    {
     "name": "stdout",
     "output_type": "stream",
     "text": [
      "10\n",
      "10\n",
      "10\n",
      "10\n",
      "10\n",
      "10\n",
      "10\n",
      "10\n",
      "10\n",
      "10\n",
      "used time: 0.0007200241088867188\n"
     ]
    }
   ],
   "source": [
    "call_time(fun_1, 10)"
   ]
  },
  {
   "cell_type": "code",
   "execution_count": 91,
   "metadata": {
    "collapsed": true
   },
   "outputs": [],
   "source": [
    "def get_call_time(func):\n",
    "    def _inner(arg):\n",
    "        start = time.time()\n",
    "        result = func(arg)\n",
    "        print('used time: {}'.format(time.time() - start))\n",
    "        return result\n",
    "    return _inner"
   ]
  },
  {
   "cell_type": "code",
   "execution_count": 92,
   "metadata": {
    "collapsed": true
   },
   "outputs": [],
   "source": [
    "func_1_could_get_calltime  = get_call_time(fun_1)"
   ]
  },
  {
   "cell_type": "code",
   "execution_count": 93,
   "metadata": {},
   "outputs": [
    {
     "name": "stdout",
     "output_type": "stream",
     "text": [
      "10\n",
      "10\n",
      "10\n",
      "10\n",
      "10\n",
      "10\n",
      "10\n",
      "10\n",
      "10\n",
      "10\n",
      "used time: 0.0011792182922363281\n"
     ]
    }
   ],
   "source": [
    "func_1_could_get_calltime(10)"
   ]
  },
  {
   "cell_type": "markdown",
   "metadata": {},
   "source": [
    "### 所以就可以用以下方法"
   ]
  },
  {
   "cell_type": "code",
   "execution_count": 94,
   "metadata": {
    "collapsed": true
   },
   "outputs": [],
   "source": [
    "fun_1 = get_call_time(fun_1)"
   ]
  },
  {
   "cell_type": "code",
   "execution_count": 95,
   "metadata": {},
   "outputs": [
    {
     "name": "stdout",
     "output_type": "stream",
     "text": [
      "10\n",
      "10\n",
      "10\n",
      "10\n",
      "10\n",
      "10\n",
      "10\n",
      "10\n",
      "10\n",
      "10\n",
      "used time: 0.0004620552062988281\n"
     ]
    }
   ],
   "source": [
    "fun_1(10)"
   ]
  },
  {
   "cell_type": "markdown",
   "metadata": {},
   "source": [
    "### 为了避免复杂，所以可以用"
   ]
  },
  {
   "cell_type": "code",
   "execution_count": 102,
   "metadata": {
    "collapsed": true
   },
   "outputs": [],
   "source": [
    "@get_call_time\n",
    "def fun_1(n):\n",
    "\n",
    "    for i in range(n):\n",
    "        print(n)"
   ]
  },
  {
   "cell_type": "code",
   "execution_count": 97,
   "metadata": {},
   "outputs": [
    {
     "name": "stdout",
     "output_type": "stream",
     "text": [
      "10\n",
      "10\n",
      "10\n",
      "10\n",
      "10\n",
      "10\n",
      "10\n",
      "10\n",
      "10\n",
      "10\n",
      "used time: 0.0017740726470947266\n"
     ]
    }
   ],
   "source": [
    "fun_1(10)"
   ]
  },
  {
   "cell_type": "markdown",
   "metadata": {},
   "source": [
    "### @w a <=> a = w(a)"
   ]
  },
  {
   "cell_type": "markdown",
   "metadata": {},
   "source": [
    "### 现在再继续改写"
   ]
  },
  {
   "cell_type": "code",
   "execution_count": 108,
   "metadata": {
    "collapsed": true
   },
   "outputs": [],
   "source": [
    "function_called_time = defaultdict(int)\n",
    "\n",
    "def get_call_time(func):\n",
    "    def _inner(arg):\n",
    "        global function_called_time\n",
    "        function_called_time[func.__name__] += 1\n",
    "        start = time.time()\n",
    "        result = func(arg)     # 关键点，都有返回一个result\n",
    "        print('function call time is: {}'.format(function_called_time[func.__name__]))\n",
    "        return result\n",
    "    return _inner"
   ]
  },
  {
   "cell_type": "code",
   "execution_count": 109,
   "metadata": {},
   "outputs": [
    {
     "name": "stdout",
     "output_type": "stream",
     "text": [
      "10\n",
      "10\n",
      "10\n",
      "10\n",
      "10\n",
      "10\n",
      "10\n",
      "10\n",
      "10\n",
      "10\n",
      "function call time is: 1\n"
     ]
    }
   ],
   "source": [
    "fun_1(10)    # 可用于累计用户访问数"
   ]
  },
  {
   "cell_type": "markdown",
   "metadata": {},
   "source": [
    "---"
   ]
  },
  {
   "cell_type": "code",
   "execution_count": 6,
   "metadata": {
    "collapsed": true
   },
   "outputs": [],
   "source": [
    "from icecream import ic"
   ]
  },
  {
   "cell_type": "code",
   "execution_count": 2,
   "metadata": {
    "collapsed": true
   },
   "outputs": [],
   "source": [
    "def memo(func):\n",
    "    cache = {}\n",
    "#     @wraps(func)\n",
    "    def _wrap(n): ## ? *args, **kwargs\n",
    "        if n in cache: result = cache[n]   # 都要返回原函数的result\n",
    "        else:\n",
    "            cache[n] = func(n)\n",
    "            result = cache[n]\n",
    "        return result\n",
    "    return _wrap"
   ]
  },
  {
   "cell_type": "code",
   "execution_count": 7,
   "metadata": {
    "collapsed": true
   },
   "outputs": [],
   "source": [
    "cache2 = defaultdict(int)\n",
    "def memo_test(func):\n",
    "    def _inner(*args):\n",
    "#         print(args[0])\n",
    "        if args[0] in cache2: result = cache2[args[0]]\n",
    "        else:\n",
    "#             print(cache)\n",
    "            cache2[args[0]] = func(args[0])\n",
    "            result = cache2[args[0]]\n",
    "        return result\n",
    "    return _inner"
   ]
  },
  {
   "cell_type": "code",
   "execution_count": 8,
   "metadata": {
    "collapsed": true
   },
   "outputs": [],
   "source": [
    "@memo_test\n",
    "def r(n):\n",
    "    max_price, split_point = max(\n",
    "        [(price[n], 0)] + [(r(i) + r(n-i), i) for i in range(1, n)], key = lambda x: x[0]\n",
    "    )\n",
    "    \n",
    "    solution[n] = (split_point, n - split_point)\n",
    "    \n",
    "    return max_price"
   ]
  },
  {
   "cell_type": "code",
   "execution_count": 27,
   "metadata": {},
   "outputs": [
    {
     "data": {
      "text/plain": [
       "301"
      ]
     },
     "execution_count": 27,
     "metadata": {},
     "output_type": "execute_result"
    }
   ],
   "source": [
    "r(101)"
   ]
  },
  {
   "cell_type": "code",
   "execution_count": 22,
   "metadata": {},
   "outputs": [
    {
     "data": {
      "text/plain": [
       "(2, 16)"
      ]
     },
     "execution_count": 22,
     "metadata": {},
     "output_type": "execute_result"
    }
   ],
   "source": [
    "solution[18]"
   ]
  },
  {
   "cell_type": "markdown",
   "metadata": {},
   "source": [
    "### Dynamic Programming \n",
    "不断查表的意思\n",
    "+ 分析子问题的重复性\n",
    "+ 子问题要进行存储\n",
    "+ Solution要进行解析"
   ]
  },
  {
   "cell_type": "code",
   "execution_count": 19,
   "metadata": {
    "collapsed": true
   },
   "outputs": [],
   "source": [
    "def not_cut(spilt): return spilt == 0\n",
    "\n",
    "def parse_solution(target_length, revenue_solution):\n",
    "    left, right = revenue_solution[target_length]\n",
    "    \n",
    "    if not_cut(left): return [right]\n",
    "    \n",
    "    return parse_solution(left, revenue_solution) + parse_solution(right, revenue_solution)"
   ]
  },
  {
   "cell_type": "code",
   "execution_count": 192,
   "metadata": {},
   "outputs": [
    {
     "ename": "KeyError",
     "evalue": "18",
     "output_type": "error",
     "traceback": [
      "\u001b[0;31m---------------------------------------------------------------------------\u001b[0m",
      "\u001b[0;31mKeyError\u001b[0m                                  Traceback (most recent call last)",
      "\u001b[0;32m<ipython-input-192-3bb0b23809cb>\u001b[0m in \u001b[0;36m<module>\u001b[0;34m()\u001b[0m\n\u001b[0;32m----> 1\u001b[0;31m \u001b[0mparse_solution\u001b[0m\u001b[0;34m(\u001b[0m\u001b[0;36m18\u001b[0m\u001b[0;34m,\u001b[0m \u001b[0msolution\u001b[0m\u001b[0;34m)\u001b[0m\u001b[0;34m\u001b[0m\u001b[0m\n\u001b[0m",
      "\u001b[0;32m<ipython-input-19-42f254fadf39>\u001b[0m in \u001b[0;36mparse_solution\u001b[0;34m(target_length, revenue_solution)\u001b[0m\n\u001b[1;32m      2\u001b[0m \u001b[0;34m\u001b[0m\u001b[0m\n\u001b[1;32m      3\u001b[0m \u001b[0;32mdef\u001b[0m \u001b[0mparse_solution\u001b[0m\u001b[0;34m(\u001b[0m\u001b[0mtarget_length\u001b[0m\u001b[0;34m,\u001b[0m \u001b[0mrevenue_solution\u001b[0m\u001b[0;34m)\u001b[0m\u001b[0;34m:\u001b[0m\u001b[0;34m\u001b[0m\u001b[0m\n\u001b[0;32m----> 4\u001b[0;31m     \u001b[0mleft\u001b[0m\u001b[0;34m,\u001b[0m \u001b[0mright\u001b[0m \u001b[0;34m=\u001b[0m \u001b[0mrevenue_solution\u001b[0m\u001b[0;34m[\u001b[0m\u001b[0mtarget_length\u001b[0m\u001b[0;34m]\u001b[0m\u001b[0;34m\u001b[0m\u001b[0m\n\u001b[0m\u001b[1;32m      5\u001b[0m \u001b[0;34m\u001b[0m\u001b[0m\n\u001b[1;32m      6\u001b[0m     \u001b[0;32mif\u001b[0m \u001b[0mnot_cut\u001b[0m\u001b[0;34m(\u001b[0m\u001b[0mleft\u001b[0m\u001b[0;34m)\u001b[0m\u001b[0;34m:\u001b[0m \u001b[0;32mreturn\u001b[0m \u001b[0;34m[\u001b[0m\u001b[0mright\u001b[0m\u001b[0;34m]\u001b[0m\u001b[0;34m\u001b[0m\u001b[0m\n",
      "\u001b[0;31mKeyError\u001b[0m: 18"
     ]
    }
   ],
   "source": [
    "parse_solution(18, solution)"
   ]
  },
  {
   "cell_type": "markdown",
   "metadata": {},
   "source": [
    "### 左边等于0就停止，然后返回右边，[2] + parse_solution(16)"
   ]
  },
  {
   "cell_type": "markdown",
   "metadata": {},
   "source": [
    "---"
   ]
  },
  {
   "cell_type": "markdown",
   "metadata": {},
   "source": [
    "# Edit Distance\n",
    "* Insertion\n",
    "* Deletion\n",
    "* Substitution"
   ]
  },
  {
   "cell_type": "code",
   "execution_count": 34,
   "metadata": {
    "collapsed": true
   },
   "outputs": [],
   "source": [
    "from functools import lru_cache"
   ]
  },
  {
   "cell_type": "code",
   "execution_count": 59,
   "metadata": {
    "collapsed": true
   },
   "outputs": [],
   "source": [
    "@lru_cache(maxsize=2**10)\n",
    "def edit_distance(string1, string2):\n",
    "    \n",
    "    if len(string1) == 0: return len(string2)\n",
    "    if len(string2) == 0: return len(string1)\n",
    "    \n",
    "    tail_s1 = string1[-1]\n",
    "    tail_s2 = string2[-1]\n",
    "    \n",
    "    candidates = [\n",
    "        \n",
    "    ]\n",
    "    \n",
    "    return min(\n",
    "        edit_distance(string1[:-1], string2) + 1,\n",
    "        edit_distance(string1, string2[:-1]) + 1,\n",
    "        edit_distance(string1[:-1], string2[:-1]) + (2 if tail_s1 != tail_s2 else 0)\n",
    "    )"
   ]
  },
  {
   "cell_type": "code",
   "execution_count": 60,
   "metadata": {},
   "outputs": [
    {
     "data": {
      "text/plain": [
       "2"
      ]
     },
     "execution_count": 60,
     "metadata": {},
     "output_type": "execute_result"
    }
   ],
   "source": [
    "edit_distance('我今天确实不太想吃饭', '我今天确实不太像吃饭')"
   ]
  },
  {
   "cell_type": "code",
   "execution_count": 61,
   "metadata": {
    "collapsed": true
   },
   "outputs": [],
   "source": [
    "from icecream import ic"
   ]
  },
  {
   "cell_type": "code",
   "execution_count": 211,
   "metadata": {
    "collapsed": true
   },
   "outputs": [],
   "source": [
    "th = 0\n",
    "@lru_cache(maxsize=2**10)\n",
    "def edit_distance(string1, string2):\n",
    "    \n",
    "    global th \n",
    "        \n",
    "    if len(string1) == 0: return len(string2)\n",
    "    if len(string2) == 0: return len(string1)\n",
    "    \n",
    "    tail_s1 = string1[-1]\n",
    "    tail_s2 = string2[-1]\n",
    "    \n",
    "    candidates = [\n",
    "        # 先运行第一步，string1先递归到最后，\n",
    "        (edit_distance(string1[:-1], string2) + 1, 'DEL {}'.format(tail_s1)),\n",
    "        (edit_distance(string1, string2[:-1]) + 1, 'ADD {}'.format(tail_s2)),\n",
    "    ]\n",
    "    \n",
    "    if tail_s1 == tail_s2:\n",
    "        both_forward = (edit_distance(string1[:-1], string2[:-1]) + 0, '')\n",
    "    else:\n",
    "        both_forward = (edit_distance(string1[:-1], string2[:-1]) + 1, 'SUB {} => {}'.format(tail_s1, tail_s2))\n",
    "    \n",
    "    candidates.append(both_forward)\n",
    "    \n",
    "    min_distance, operation = min(candidates, key=lambda x: x[0])\n",
    "    \n",
    "    th += 1\n",
    "    \n",
    "#     ic(string1, string2, min_distance, operation, th)\n",
    "    \n",
    "    solution[(string1, string2)] = operation\n",
    "    \n",
    "    return min_distance"
   ]
  },
  {
   "cell_type": "code",
   "execution_count": 212,
   "metadata": {},
   "outputs": [
    {
     "data": {
      "text/plain": [
       "1"
      ]
     },
     "execution_count": 212,
     "metadata": {},
     "output_type": "execute_result"
    }
   ],
   "source": [
    "edit_distance('100', '110')"
   ]
  },
  {
   "cell_type": "code",
   "execution_count": 207,
   "metadata": {
    "collapsed": true
   },
   "outputs": [],
   "source": [
    "solution = {}"
   ]
  },
  {
   "cell_type": "code",
   "execution_count": 219,
   "metadata": {
    "scrolled": true
   },
   "outputs": [
    {
     "data": {
      "text/plain": [
       "{('1', '1'): '',\n",
       " ('1', '11'): 'ADD 1',\n",
       " ('1', '110'): 'ADD 0',\n",
       " ('10', '1'): 'DEL 0',\n",
       " ('10', '11'): 'SUB 0 => 1',\n",
       " ('10', '110'): '',\n",
       " ('100', '1'): 'DEL 0',\n",
       " ('100', '11'): 'DEL 0',\n",
       " ('100', '110'): ''}"
      ]
     },
     "execution_count": 219,
     "metadata": {},
     "output_type": "execute_result"
    }
   ],
   "source": [
    "solution\n"
   ]
  },
  {
   "cell_type": "code",
   "execution_count": 202,
   "metadata": {},
   "outputs": [
    {
     "name": "stdout",
     "output_type": "stream",
     "text": [
      "1\n"
     ]
    }
   ],
   "source": [
    "if re.match(del_pattern,'DEL 0'):\n",
    "    print(1)"
   ]
  },
  {
   "cell_type": "code",
   "execution_count": 194,
   "metadata": {
    "collapsed": true
   },
   "outputs": [],
   "source": [
    "import re"
   ]
  },
  {
   "cell_type": "code",
   "execution_count": 200,
   "metadata": {},
   "outputs": [],
   "source": [
    "add_pattern = re.compile('^ADD.*')\n",
    "del_pattern = re.compile('^DEL.*')"
   ]
  },
  {
   "cell_type": "code",
   "execution_count": 223,
   "metadata": {},
   "outputs": [
    {
     "name": "stdout",
     "output_type": "stream",
     "text": [
      "1\n"
     ]
    }
   ],
   "source": [
    "if re.match(del_pattern, solution[('100', '11')]):\n",
    "    print(1)"
   ]
  },
  {
   "cell_type": "code",
   "execution_count": 224,
   "metadata": {
    "collapsed": true
   },
   "outputs": [],
   "source": [
    "def parse_solution_for_edit_distance(str1, str2, solution):\n",
    "    if str1 == str2:\n",
    "        return []\n",
    "    operation = solution[(str1, str2)]\n",
    "    if operation:\n",
    "        if re.match(del_pattern, operation):\n",
    "            return parse_solution_for_edit_distance(str1[:-1], str2, solution) + [operation]\n",
    "        if re.match(add_pattern, operation):\n",
    "            return parse_solution_for_edit_distance(str1, str2[:-1], solution) + [operation]\n",
    "        else:\n",
    "            return parse_solution_for_edit_distance(str1[:-1], str2[:-1], solution) + [operation]\n",
    "    else:\n",
    "        return parse_solution_for_edit_distance(str1[:-1], str2[:-1], solution)"
   ]
  },
  {
   "cell_type": "code",
   "execution_count": 225,
   "metadata": {},
   "outputs": [
    {
     "data": {
      "text/plain": [
       "['SUB 0 => 1']"
      ]
     },
     "execution_count": 225,
     "metadata": {},
     "output_type": "execute_result"
    }
   ],
   "source": [
    "parse_solution_for_edit_distance('100', '110', solution)"
   ]
  },
  {
   "cell_type": "markdown",
   "metadata": {},
   "source": [
    "---"
   ]
  },
  {
   "cell_type": "markdown",
   "metadata": {},
   "source": [
    "### 解决蚂蚁走路问题(以下与课程无关）"
   ]
  },
  {
   "cell_type": "code",
   "execution_count": 41,
   "metadata": {
    "collapsed": true
   },
   "outputs": [],
   "source": [
    "input1 = '''\n",
    "5\n",
    "1\n",
    "6 3\n",
    "8 2 6\n",
    "2 1 6 5\n",
    "3 2 4 7 6\n",
    "'''"
   ]
  },
  {
   "cell_type": "code",
   "execution_count": 74,
   "metadata": {},
   "outputs": [
    {
     "data": {
      "text/plain": [
       "array([[0, 0, 0, 0, 0],\n",
       "       [0, 0, 0, 0, 0],\n",
       "       [0, 0, 0, 0, 0],\n",
       "       [0, 0, 0, 0, 0],\n",
       "       [0, 0, 0, 0, 0]])"
      ]
     },
     "execution_count": 74,
     "metadata": {},
     "output_type": "execute_result"
    }
   ],
   "source": [
    "import numpy as np\n",
    "store = np.zeros((5,5), int)\n",
    "store"
   ]
  },
  {
   "cell_type": "code",
   "execution_count": 75,
   "metadata": {},
   "outputs": [
    {
     "name": "stderr",
     "output_type": "stream",
     "text": [
      "ic| i: 2\n",
      "    j: 0\n",
      "    store: array([[0, 0, 0, 0, 0],\n",
      "                  [0, 0, 0, 0, 0],\n",
      "                  [0, 0, 0, 0, 0],\n",
      "                  [0, 0, 0, 0, 0],\n",
      "                  [0, 0, 0, 0, 0]])\n",
      "ic| i: 3\n",
      "    j: 0\n",
      "    store: array([[1, 0, 0, 0, 0],\n",
      "                  [0, 0, 0, 0, 0],\n",
      "                  [0, 0, 0, 0, 0],\n",
      "                  [0, 0, 0, 0, 0],\n",
      "                  [0, 0, 0, 0, 0]])\n",
      "ic| i: 3\n",
      "    j: 1\n",
      "    store: array([[1, 0, 0, 0, 0],\n",
      "                  [6, 0, 0, 0, 0],\n",
      "                  [0, 0, 0, 0, 0],\n",
      "                  [0, 0, 0, 0, 0],\n",
      "                  [0, 0, 0, 0, 0]])\n",
      "ic| i: 4\n",
      "    j: 0\n",
      "    store: array([[1, 0, 0, 0, 0],\n",
      "                  [6, 3, 0, 0, 0],\n",
      "                  [0, 0, 0, 0, 0],\n",
      "                  [0, 0, 0, 0, 0],\n",
      "                  [0, 0, 0, 0, 0]])\n",
      "ic| i: 4\n",
      "    j: 1\n",
      "    store: array([[1, 0, 0, 0, 0],\n",
      "                  [6, 3, 0, 0, 0],\n",
      "                  [8, 0, 0, 0, 0],\n",
      "                  [0, 0, 0, 0, 0],\n",
      "                  [0, 0, 0, 0, 0]])\n",
      "ic| i: 4\n",
      "    j: 2\n",
      "    store: array([[1, 0, 0, 0, 0],\n",
      "                  [6, 3, 0, 0, 0],\n",
      "                  [8, 2, 0, 0, 0],\n",
      "                  [0, 0, 0, 0, 0],\n",
      "                  [0, 0, 0, 0, 0]])\n",
      "ic| i: 5\n",
      "    j: 0\n",
      "    store: array([[1, 0, 0, 0, 0],\n",
      "                  [6, 3, 0, 0, 0],\n",
      "                  [8, 2, 6, 0, 0],\n",
      "                  [0, 0, 0, 0, 0],\n",
      "                  [0, 0, 0, 0, 0]])\n",
      "ic| i: 5\n",
      "    j: 1\n",
      "    store: array([[1, 0, 0, 0, 0],\n",
      "                  [6, 3, 0, 0, 0],\n",
      "                  [8, 2, 6, 0, 0],\n",
      "                  [2, 0, 0, 0, 0],\n",
      "                  [0, 0, 0, 0, 0]])\n",
      "ic| i: 5\n",
      "    j: 2\n",
      "    store: array([[1, 0, 0, 0, 0],\n",
      "                  [6, 3, 0, 0, 0],\n",
      "                  [8, 2, 6, 0, 0],\n",
      "                  [2, 1, 0, 0, 0],\n",
      "                  [0, 0, 0, 0, 0]])\n",
      "ic| i: 5\n",
      "    j: 3\n",
      "    store: array([[1, 0, 0, 0, 0],\n",
      "                  [6, 3, 0, 0, 0],\n",
      "                  [8, 2, 6, 0, 0],\n",
      "                  [2, 1, 6, 0, 0],\n",
      "                  [0, 0, 0, 0, 0]])\n",
      "ic| i: 6\n",
      "    j: 0\n",
      "    store: array([[1, 0, 0, 0, 0],\n",
      "                  [6, 3, 0, 0, 0],\n",
      "                  [8, 2, 6, 0, 0],\n",
      "                  [2, 1, 6, 5, 0],\n",
      "                  [0, 0, 0, 0, 0]])\n",
      "ic| i: 6\n",
      "    j: 1\n",
      "    store: array([[1, 0, 0, 0, 0],\n",
      "                  [6, 3, 0, 0, 0],\n",
      "                  [8, 2, 6, 0, 0],\n",
      "                  [2, 1, 6, 5, 0],\n",
      "                  [3, 0, 0, 0, 0]])\n",
      "ic| i: 6\n",
      "    j: 2\n",
      "    store: array([[1, 0, 0, 0, 0],\n",
      "                  [6, 3, 0, 0, 0],\n",
      "                  [8, 2, 6, 0, 0],\n",
      "                  [2, 1, 6, 5, 0],\n",
      "                  [3, 2, 0, 0, 0]])\n",
      "ic| i: 6\n",
      "    j: 3\n",
      "    store: array([[1, 0, 0, 0, 0],\n",
      "                  [6, 3, 0, 0, 0],\n",
      "                  [8, 2, 6, 0, 0],\n",
      "                  [2, 1, 6, 5, 0],\n",
      "                  [3, 2, 4, 0, 0]])\n",
      "ic| i: 6\n",
      "    j: 4\n",
      "    store: array([[1, 0, 0, 0, 0],\n",
      "                  [6, 3, 0, 0, 0],\n",
      "                  [8, 2, 6, 0, 0],\n",
      "                  [2, 1, 6, 5, 0],\n",
      "                  [3, 2, 4, 7, 0]])\n"
     ]
    }
   ],
   "source": [
    "nums = defaultdict(list)\n",
    "for i, p in enumerate(input1.split('\\n')):\n",
    "    if not p: continue\n",
    "    p = p.strip()\n",
    "    if i == 1: size = p\n",
    "    else:\n",
    "        for j, k in enumerate(p.split()):\n",
    "            ic(i, j, store)\n",
    "            store[i-2][j] = k\n",
    "# print(len(input1.split('\\n')))"
   ]
  },
  {
   "cell_type": "code",
   "execution_count": 76,
   "metadata": {
    "scrolled": true
   },
   "outputs": [
    {
     "data": {
      "text/plain": [
       "array([[1, 0, 0, 0, 0],\n",
       "       [6, 3, 0, 0, 0],\n",
       "       [8, 2, 6, 0, 0],\n",
       "       [2, 1, 6, 5, 0],\n",
       "       [3, 2, 4, 7, 6]])"
      ]
     },
     "execution_count": 76,
     "metadata": {},
     "output_type": "execute_result"
    }
   ],
   "source": [
    "store"
   ]
  },
  {
   "cell_type": "markdown",
   "metadata": {},
   "source": [
    "### 递归解法"
   ]
  },
  {
   "cell_type": "code",
   "execution_count": 132,
   "metadata": {
    "collapsed": true
   },
   "outputs": [],
   "source": [
    "times = 0\n",
    "def find_max(a, b):\n",
    "    global times\n",
    "    if a == 4: return store[a][b]\n",
    "    times += 1\n",
    "    ic(times)\n",
    "    return store[a][b] + max(find_max(a+1,b), find_max(a+1, b+1))"
   ]
  },
  {
   "cell_type": "code",
   "execution_count": 133,
   "metadata": {},
   "outputs": [
    {
     "name": "stderr",
     "output_type": "stream",
     "text": [
      "ic| times: 1\n",
      "ic| times: 2\n",
      "ic| times: 3\n",
      "ic| times: 4\n",
      "ic| times: 5\n",
      "ic| times: 6\n",
      "ic| times: 7\n",
      "ic| times: 8\n",
      "ic| times: 9\n",
      "ic| times: 10\n",
      "ic| times: 11\n",
      "ic| times: 12\n",
      "ic| times: 13\n",
      "ic| times: 14\n",
      "ic| times: 15\n"
     ]
    },
    {
     "data": {
      "text/plain": [
       "23"
      ]
     },
     "execution_count": 133,
     "metadata": {},
     "output_type": "execute_result"
    }
   ],
   "source": [
    "find_max(0, 0)   #此方法计算15次"
   ]
  },
  {
   "cell_type": "markdown",
   "metadata": {},
   "source": [
    "### 记忆搜索优化算法"
   ]
  },
  {
   "cell_type": "code",
   "execution_count": 96,
   "metadata": {
    "collapsed": true
   },
   "outputs": [],
   "source": [
    "dp = defaultdict()\n",
    "def memo_for_ant(func):\n",
    "    def _wrap(*args):\n",
    "        if args in dp: return dp[args]\n",
    "        else:\n",
    "            result = func(*args)\n",
    "            dp[args] = result\n",
    "        return result\n",
    "    return _wrap"
   ]
  },
  {
   "cell_type": "code",
   "execution_count": 97,
   "metadata": {
    "collapsed": true
   },
   "outputs": [],
   "source": [
    "import time"
   ]
  },
  {
   "cell_type": "code",
   "execution_count": 170,
   "metadata": {
    "collapsed": true
   },
   "outputs": [],
   "source": [
    "times = 0\n",
    "@memo_for_ant\n",
    "def find_max(a, b):\n",
    "    global times\n",
    "    if a == 4: return store[a][b]\n",
    "    times += 1\n",
    "    ic(times)\n",
    "    return store[a][b] + max(find_max(a+1,b), find_max(a+1, b+1))"
   ]
  },
  {
   "cell_type": "code",
   "execution_count": 171,
   "metadata": {},
   "outputs": [
    {
     "name": "stderr",
     "output_type": "stream",
     "text": [
      "ic| times: 1\n",
      "ic| times: 2\n",
      "ic| times: 3\n",
      "ic| times: 4\n",
      "ic| times: 5\n",
      "ic| times: 6\n",
      "ic| times: 7\n",
      "ic| times: 8\n",
      "ic| times: 9\n",
      "ic| times: 10\n"
     ]
    },
    {
     "data": {
      "text/plain": [
       "23"
      ]
     },
     "execution_count": 171,
     "metadata": {},
     "output_type": "execute_result"
    }
   ],
   "source": [
    "find_max(0, 0) # c此方法只计算了10次"
   ]
  },
  {
   "cell_type": "code",
   "execution_count": 168,
   "metadata": {
    "collapsed": true
   },
   "outputs": [],
   "source": [
    "dp = {}"
   ]
  },
  {
   "cell_type": "markdown",
   "metadata": {},
   "source": [
    "为什么会产生重复值: 因为比如算a[2][0]要算a[3][0]和a[3][1]，a[2][1]要算a[3][1]和a[3][2]这里就有重复的a[3][1]"
   ]
  },
  {
   "cell_type": "markdown",
   "metadata": {},
   "source": [
    "---"
   ]
  },
  {
   "cell_type": "markdown",
   "metadata": {},
   "source": [
    "### 深度优先搜索"
   ]
  },
  {
   "cell_type": "code",
   "execution_count": 176,
   "metadata": {
    "collapsed": true
   },
   "outputs": [],
   "source": [
    "sum_1 = 0\n",
    "Max = 0\n",
    "def dfs(a, b):\n",
    "#     ic(a,b,sum_1)\n",
    "    global sum_1\n",
    "    global Max\n",
    "    ic(a,b,sum_1)\n",
    "    sum_1 += store[a][b]  # 去到就加\n",
    "    if a==4: \n",
    "        Max = sum_1 if sum_1 > Max else Max\n",
    "        return\n",
    "    for i in range(0, 2):\n",
    "        dfs(a+1, b+i)\n",
    "        sum_1 -= store[a+1][b+i]"
   ]
  },
  {
   "cell_type": "code",
   "execution_count": 178,
   "metadata": {},
   "outputs": [
    {
     "name": "stdout",
     "output_type": "stream",
     "text": [
      "23\n"
     ]
    }
   ],
   "source": [
    "print(Max)"
   ]
  },
  {
   "cell_type": "markdown",
   "metadata": {},
   "source": [
    "---"
   ]
  }
 ],
 "metadata": {
  "kernelspec": {
   "display_name": "Python 3",
   "language": "python",
   "name": "python3"
  },
  "language_info": {
   "codemirror_mode": {
    "name": "ipython",
    "version": 3
   },
   "file_extension": ".py",
   "mimetype": "text/x-python",
   "name": "python",
   "nbconvert_exporter": "python",
   "pygments_lexer": "ipython3",
   "version": "3.6.1"
  }
 },
 "nbformat": 4,
 "nbformat_minor": 2
}
