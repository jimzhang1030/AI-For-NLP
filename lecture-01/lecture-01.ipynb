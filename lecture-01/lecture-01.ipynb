{
 "cells": [
  {
   "cell_type": "code",
   "execution_count": 1,
   "metadata": {},
   "outputs": [],
   "source": [
    "BEIJING, CHANGCHUN, WULUMUQI, WUHAN, GUANGZHOU, SHENZHEN, BANGKOK, SHANGHAI, NEWYORK = \"\"\"\n",
    "BEIJING CHANGCHUN WULUMUQI WUHAN GUANGZHOU SHENZHEN BANGKOK SHANGHAI NEWYORK\n",
    "\"\"\".split()"
   ]
  },
  {
   "cell_type": "code",
   "execution_count": 2,
   "metadata": {},
   "outputs": [],
   "source": [
    "dictionary = {}"
   ]
  },
  {
   "cell_type": "code",
   "execution_count": 3,
   "metadata": {},
   "outputs": [],
   "source": [
    "connection = {\n",
    "    CHANGCHUN: [BEIJING],\n",
    "    WULUMUQI: [BEIJING], \n",
    "    BEIJING: [WULUMUQI, CHANGCHUN, WUHAN, SHENZHEN, NEWYORK],\n",
    "    NEWYORK: [BEIJING, SHANGHAI],\n",
    "    SHANGHAI: [NEWYORK, WUHAN],\n",
    "    WUHAN: [SHANGHAI, BEIJING, GUANGZHOU],\n",
    "    GUANGZHOU: [WUHAN, BANGKOK],\n",
    "    SHENZHEN: [WUHAN, BANGKOK],\n",
    "    BANGKOK: [SHENZHEN, GUANGZHOU]\n",
    "}"
   ]
  },
  {
   "cell_type": "code",
   "execution_count": 4,
   "metadata": {},
   "outputs": [],
   "source": [
    "import networkx as nx"
   ]
  },
  {
   "cell_type": "code",
   "execution_count": 5,
   "metadata": {},
   "outputs": [],
   "source": [
    "%matplotlib inline"
   ]
  },
  {
   "cell_type": "code",
   "execution_count": 6,
   "metadata": {},
   "outputs": [],
   "source": [
    "graph = connection"
   ]
  },
  {
   "cell_type": "code",
   "execution_count": 7,
   "metadata": {},
   "outputs": [],
   "source": [
    "g = nx.Graph(graph)"
   ]
  },
  {
   "cell_type": "code",
   "execution_count": 8,
   "metadata": {},
   "outputs": [
    {
     "name": "stderr",
     "output_type": "stream",
     "text": [
      "C:\\Users\\zzy\\Anaconda3\\lib\\site-packages\\networkx\\drawing\\nx_pylab.py:611: MatplotlibDeprecationWarning: isinstance(..., numbers.Number)\n",
      "  if cb.is_numlike(alpha):\n"
     ]
    },
    {
     "data": {
      "image/png": "[encoded data removed]",
      "text/plain": [
       "<Figure size 432x288 with 1 Axes>"
      ]
     },
     "metadata": {},
     "output_type": "display_data"
    }
   ],
   "source": [
    "nx.draw(g)"
   ]
  },
  {
   "cell_type": "code",
   "execution_count": 9,
   "metadata": {},
   "outputs": [],
   "source": [
    "G = nx.Graph()"
   ]
  },
  {
   "cell_type": "code",
   "execution_count": 10,
   "metadata": {},
   "outputs": [],
   "source": [
    "G.add_node('a')"
   ]
  },
  {
   "cell_type": "code",
   "execution_count": 11,
   "metadata": {},
   "outputs": [
    {
     "name": "stdout",
     "output_type": "stream",
     "text": [
      "['a']\n"
     ]
    }
   ],
   "source": [
    "print(G.nodes)"
   ]
  },
  {
   "cell_type": "code",
   "execution_count": 12,
   "metadata": {},
   "outputs": [
    {
     "name": "stdout",
     "output_type": "stream",
     "text": [
      "['CHANGCHUN', 'WULUMUQI', 'BEIJING', 'NEWYORK', 'SHANGHAI', 'WUHAN', 'GUANGZHOU', 'SHENZHEN', 'BANGKOK']\n"
     ]
    }
   ],
   "source": [
    "print(g.nodes)"
   ]
  },
  {
   "cell_type": "code",
   "execution_count": 13,
   "metadata": {},
   "outputs": [
    {
     "name": "stdout",
     "output_type": "stream",
     "text": [
      "[0, 1, 2, 3, 4, 5, 6, 7, 8, 9]\n"
     ]
    }
   ],
   "source": [
    "G = nx.Graph() # new graph\n",
    "\n",
    "H=nx.path_graph(10) # add 10 new nodes\n",
    "G.add_nodes_from(H)\n",
    "print(G.nodes()) # print nodes"
   ]
  },
  {
   "cell_type": "code",
   "execution_count": 14,
   "metadata": {},
   "outputs": [
    {
     "name": "stdout",
     "output_type": "stream",
     "text": [
      "[(1, 2)]\n"
     ]
    },
    {
     "data": {
      "image/png": "[encoded data removed]",
      "text/plain": [
       "<Figure size 432x288 with 1 Axes>"
      ]
     },
     "metadata": {},
     "output_type": "display_data"
    }
   ],
   "source": [
    "G.add_edge(1,2) # add a new edge\n",
    "print(G.edges()) # print edges\n",
    "nx.draw(G)"
   ]
  },
  {
   "cell_type": "code",
   "execution_count": 15,
   "metadata": {},
   "outputs": [
    {
     "name": "stdout",
     "output_type": "stream",
     "text": [
      "[('CHANGCHUN', 'BEIJING'), ('WULUMUQI', 'BEIJING'), ('BEIJING', 'WUHAN'), ('BEIJING', 'SHENZHEN'), ('BEIJING', 'NEWYORK'), ('NEWYORK', 'SHANGHAI'), ('SHANGHAI', 'WUHAN'), ('WUHAN', 'GUANGZHOU'), ('WUHAN', 'SHENZHEN'), ('GUANGZHOU', 'BANGKOK'), ('SHENZHEN', 'BANGKOK')]\n"
     ]
    }
   ],
   "source": [
    "print(g.edges())"
   ]
  },
  {
   "cell_type": "code",
   "execution_count": 16,
   "metadata": {},
   "outputs": [],
   "source": [
    "def nagivator(start, destination, connection_graph):   #新来的点优先拓展\n",
    "    pathes = [[start]]\n",
    "    seen = set()\n",
    "    \n",
    "    while pathes:\n",
    "        path = pathes.pop(0)     #先取路径\n",
    "        frontier = path[-1]    #再取点\n",
    "        \n",
    "        if frontier in seen:\n",
    "            continue\n",
    "        \n",
    "        successors = connection_graph[frontier]\n",
    "\n",
    "        for s in successors:\n",
    "            if s == destination:\n",
    "                path.append(s)\n",
    "                return path\n",
    "            else:\n",
    "                pathes.append(path + [s])\n",
    "\n",
    "        seen.add(frontier)\n",
    "        pathes  = sorted(pathes, key = len)  #把最短的放在前面\n",
    "#         return seen"
   ]
  },
  {
   "cell_type": "code",
   "execution_count": 68,
   "metadata": {},
   "outputs": [
    {
     "data": {
      "text/plain": [
       "['CHANGCHUN', 'BEIJING', 'SHENZHEN', 'BANGKOK']"
      ]
     },
     "execution_count": 68,
     "metadata": {},
     "output_type": "execute_result"
    }
   ],
   "source": [
    "nagivator(CHANGCHUN, BANGKOK, connection)"
   ]
  },
  {
   "cell_type": "code",
   "execution_count": 23,
   "metadata": {},
   "outputs": [],
   "source": [
    "def draw_route(routes):\n",
    "    print('->'.join(routes))"
   ]
  },
  {
   "cell_type": "code",
   "execution_count": 24,
   "metadata": {},
   "outputs": [
    {
     "name": "stdout",
     "output_type": "stream",
     "text": [
      "CHANGCHUN->BEIJING->SHENZHEN->BANGKOK\n"
     ]
    }
   ],
   "source": [
    "draw_route(nagivator(CHANGCHUN, BANGKOK, connection))"
   ]
  },
  {
   "cell_type": "code",
   "execution_count": 57,
   "metadata": {},
   "outputs": [],
   "source": [
    "def nagivator_bfs(start, destination, connection_graph):\n",
    "    pathes = [start]\n",
    "    seen = set()\n",
    "    \n",
    "    while pathes:\n",
    "        frontier = pathes.pop(0)\n",
    "        \n",
    "        if frontier in seen:\n",
    "            continue\n",
    "        \n",
    "        successors = connection_graph[frontier]\n",
    "        print('I am standing at {}, Looking forward{}'.format(frontier, successors))\n",
    "        pathes = pathes + successors  # 往后插入\n",
    "        \n",
    "        seen.add(frontier)"
   ]
  },
  {
   "cell_type": "code",
   "execution_count": 58,
   "metadata": {},
   "outputs": [],
   "source": [
    "def nagivator_dfs(start, destination, connection_graph):\n",
    "    pathes = [start]\n",
    "    seen = set()\n",
    "    \n",
    "    while pathes:\n",
    "        frontier = pathes.pop(0)\n",
    "        \n",
    "        if frontier in seen:\n",
    "            continue\n",
    "        \n",
    "        successors = connection_graph[frontier]\n",
    "        print('I am standing at {}, Looking forward{}'.format(frontier, successors))\n",
    "        pathes = successors + pathes   #往前插入\n",
    "        \n",
    "        seen.add(frontier)"
   ]
  },
  {
   "cell_type": "code",
   "execution_count": 59,
   "metadata": {},
   "outputs": [],
   "source": [
    "connection_2 = {\n",
    "    0:[1, 5],\n",
    "    1:[0, 2],\n",
    "    2:[1, 3],\n",
    "    3:[2, 4],\n",
    "    4:[3],\n",
    "    5:[0, 6],\n",
    "    6:[5, 7],\n",
    "    7:[6]\n",
    "}"
   ]
  },
  {
   "cell_type": "code",
   "execution_count": 60,
   "metadata": {},
   "outputs": [
    {
     "data": {
      "image/png": "[encoded data removed]",
      "text/plain": [
       "<Figure size 432x288 with 1 Axes>"
      ]
     },
     "metadata": {},
     "output_type": "display_data"
    }
   ],
   "source": [
    "nx.draw(nx.Graph(connection_2))"
   ]
  },
  {
   "cell_type": "code",
   "execution_count": 61,
   "metadata": {},
   "outputs": [
    {
     "name": "stdout",
     "output_type": "stream",
     "text": [
      "I am standing at 0, Looking forward[1, 5]\n",
      "I am standing at 1, Looking forward[0, 2]\n",
      "I am standing at 2, Looking forward[1, 3]\n",
      "I am standing at 3, Looking forward[2, 4]\n",
      "I am standing at 4, Looking forward[3]\n",
      "I am standing at 5, Looking forward[0, 6]\n",
      "I am standing at 6, Looking forward[5, 7]\n",
      "I am standing at 7, Looking forward[6]\n"
     ]
    }
   ],
   "source": [
    "nagivator_dfs(0, 7, connection_2)"
   ]
  },
  {
   "cell_type": "code",
   "execution_count": 62,
   "metadata": {},
   "outputs": [
    {
     "name": "stdout",
     "output_type": "stream",
     "text": [
      "I am standing at 0, Looking forward[1, 5]\n",
      "I am standing at 1, Looking forward[0, 2]\n",
      "I am standing at 5, Looking forward[0, 6]\n",
      "I am standing at 2, Looking forward[1, 3]\n",
      "I am standing at 6, Looking forward[5, 7]\n",
      "I am standing at 3, Looking forward[2, 4]\n",
      "I am standing at 7, Looking forward[6]\n",
      "I am standing at 4, Looking forward[3]\n"
     ]
    }
   ],
   "source": [
    "nagivator_bfs(0, 7, connection_2)"
   ]
  },
  {
   "cell_type": "markdown",
   "metadata": {},
   "source": [
    " ##Sentence Generation"
   ]
  },
  {
   "cell_type": "code",
   "execution_count": 2,
   "metadata": {},
   "outputs": [],
   "source": [
    "grammer = \"\"\"\n",
    "sentence => noun_phrase verb_phrase\n",
    "noun_phrase => Article Adj* noun\n",
    "Adj* => null | Adj Adj*\n",
    "verb_phrase => verb noun_phrase\n",
    "Article => 一个 | 这个\n",
    "noun => 女人 | 篮球 | 桌子 | 小猫\n",
    "verb => 看着 | 坐在 | 听着 | 看见\n",
    "Adj => 蓝色的 | 好看的 | 小小的\n",
    "\"\"\""
   ]
  },
  {
   "cell_type": "code",
   "execution_count": null,
   "metadata": {},
   "outputs": [],
   "source": [
    "grammer = \"\"\"\n",
    "stmet = if block else block\n",
    "block = cmp; assigment\n",
    "assgiment = XXX\n",
    "XXX\n",
    "\"\"\""
   ]
  },
  {
   "cell_type": "code",
   "execution_count": 99,
   "metadata": {},
   "outputs": [],
   "source": [
    "decimal_grammer = \"\"\"\n",
    "expresion = operator op operator\n",
    "operator = num op num\n",
    "num = 0 | 1 | 2 | 3 | 4 | 5 | 6 | 7 | 8 | 9 | num num\n",
    "op = + | - | * | /\n",
    "\"\"\""
   ]
  },
  {
   "cell_type": "code",
   "execution_count": 3,
   "metadata": {},
   "outputs": [],
   "source": [
    "import random"
   ]
  },
  {
   "cell_type": "code",
   "execution_count": 27,
   "metadata": {},
   "outputs": [],
   "source": [
    "def parse_grammar(grammar_str, sep='=>'):\n",
    "    grammar = {} \n",
    "    for line in grammar_str.split('\\n'):\n",
    "        line = line.strip()\n",
    "        if not line: continue\n",
    "            \n",
    "        target, rules = line.split(sep)\n",
    "        grammar[target.strip()] = [r.split() for r in rules.split('|')]\n",
    "    \n",
    "    return grammar"
   ]
  },
  {
   "cell_type": "code",
   "execution_count": 47,
   "metadata": {},
   "outputs": [
    {
     "name": "stdout",
     "output_type": "stream",
     "text": [
      "[' 女人 ', ' 篮球 ', ' 桌子 ', ' 小猫']\n",
      "['女人']\n",
      "['女人', '篮球', '桌子', '小猫']\n"
     ]
    }
   ],
   "source": [
    "a = \"noun => 女人 | 篮球 | 桌子 | 小猫\"\n",
    "b = a.strip().split('=>')\n",
    "print(c.split('|'))\n",
    "print(c.split('|')[0].split())\n",
    "print([r.strip() for r in c.split('|')])"
   ]
  },
  {
   "cell_type": "code",
   "execution_count": 39,
   "metadata": {},
   "outputs": [
    {
     "data": {
      "text/plain": [
       "{'sentence': [['noun_phrase', 'verb_phrase']],\n",
       " 'noun_phrase': [['Article', 'Adj*', 'noun']],\n",
       " 'Adj*': [['null'], ['Adj', 'Adj*']],\n",
       " 'verb_phrase': [['verb', 'noun_phrase']],\n",
       " 'Article': [['一个'], ['这个']],\n",
       " 'noun': [['女人'], ['篮球'], ['桌子'], ['小猫']],\n",
       " 'verb': [['看着'], ['坐在'], ['听着'], ['看见']],\n",
       " 'Adj': [['蓝色的'], ['好看的'], ['小小的']]}"
      ]
     },
     "execution_count": 39,
     "metadata": {},
     "output_type": "execute_result"
    }
   ],
   "source": [
    "parse_grammar(grammer)"
   ]
  },
  {
   "cell_type": "code",
   "execution_count": 5,
   "metadata": {},
   "outputs": [],
   "source": [
    "def adj(): return random.choice([\"蓝色的\", \"好看的\", \"小小的\"])"
   ]
  },
  {
   "cell_type": "code",
   "execution_count": 6,
   "metadata": {},
   "outputs": [
    {
     "data": {
      "text/plain": [
       "'好看的'"
      ]
     },
     "execution_count": 6,
     "metadata": {},
     "output_type": "execute_result"
    }
   ],
   "source": [
    "adj()"
   ]
  },
  {
   "cell_type": "code",
   "execution_count": 7,
   "metadata": {},
   "outputs": [],
   "source": [
    "def noun(): return random.choice(\"女人 | 篮球 | 桌子 | 小猫\".split(\"|\"))"
   ]
  },
  {
   "cell_type": "code",
   "execution_count": 8,
   "metadata": {},
   "outputs": [
    {
     "data": {
      "text/plain": [
       "' 篮球 '"
      ]
     },
     "execution_count": 8,
     "metadata": {},
     "output_type": "execute_result"
    }
   ],
   "source": [
    "noun()"
   ]
  },
  {
   "cell_type": "code",
   "execution_count": 48,
   "metadata": {},
   "outputs": [],
   "source": [
    "g = parse_grammar(grammer)"
   ]
  },
  {
   "cell_type": "code",
   "execution_count": 50,
   "metadata": {},
   "outputs": [
    {
     "data": {
      "text/plain": [
       "['null']"
      ]
     },
     "execution_count": 50,
     "metadata": {},
     "output_type": "execute_result"
    }
   ],
   "source": [
    "random.choice(g['Adj*'])"
   ]
  },
  {
   "cell_type": "code",
   "execution_count": 61,
   "metadata": {},
   "outputs": [],
   "source": [
    "def gene(grammer_parsed, target = 'sentence'):\n",
    "    if target not in grammer_parsed: return target  #递归出口\n",
    "    rules = random.choice(grammer_parsed[target])\n",
    "    return ''.join(gene(grammer_parsed, target = r) for r in rules if r != 'null')"
   ]
  },
  {
   "cell_type": "code",
   "execution_count": 65,
   "metadata": {},
   "outputs": [
    {
     "data": {
      "text/plain": [
       "'这个桌子坐在这个篮球'"
      ]
     },
     "execution_count": 65,
     "metadata": {},
     "output_type": "execute_result"
    }
   ],
   "source": [
    "gene(g)"
   ]
  },
  {
   "cell_type": "code",
   "execution_count": 115,
   "metadata": {},
   "outputs": [
    {
     "data": {
      "text/plain": [
       "'1*4/8*204'"
      ]
     },
     "execution_count": 115,
     "metadata": {},
     "output_type": "execute_result"
    }
   ],
   "source": [
    "gene(parse_grammar(decimal_grammer, '='), target = 'expresion')"
   ]
  },
  {
   "cell_type": "code",
   "execution_count": null,
   "metadata": {},
   "outputs": [],
   "source": []
  },
  {
   "cell_type": "code",
   "execution_count": null,
   "metadata": {},
   "outputs": [],
   "source": []
  }
 ],
 "metadata": {
  "kernelspec": {
   "display_name": "Python 3",
   "language": "python",
   "name": "python3"
  },
  "language_info": {
   "codemirror_mode": {
    "name": "ipython",
    "version": 3
   },
   "file_extension": ".py",
   "mimetype": "text/x-python",
   "name": "python",
   "nbconvert_exporter": "python",
   "pygments_lexer": "ipython3",
   "version": "3.7.3"
  }
 },
 "nbformat": 4,
 "nbformat_minor": 2
}
