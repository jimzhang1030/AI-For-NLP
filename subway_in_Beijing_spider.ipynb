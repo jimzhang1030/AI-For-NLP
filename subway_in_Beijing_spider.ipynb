{
 "cells": [
  {
   "cell_type": "markdown",
   "metadata": {},
   "source": [
    "# 爬取北京地铁站信息"
   ]
  },
  {
   "cell_type": "code",
   "execution_count": 1,
   "metadata": {},
   "outputs": [],
   "source": [
    "import re\n",
    "import requests\n",
    "from bs4 import BeautifulSoup"
   ]
  },
  {
   "cell_type": "code",
   "execution_count": 3,
   "metadata": {},
   "outputs": [],
   "source": [
    "url = 'https://baike.baidu.com/item/%E5%8C%97%E4%BA%AC%E5%9C%B0%E9%93%81/408485'\n",
    "headers = {\n",
    "    'User-Agent':'Mozilla/5.0 (Windows NT 10.0; Win64; x64) AppleWebKit/537.36 (KHTML, like Gecko) Chrome/73.0.3683.103 Safari/537.36'\n",
    "}\n",
    "response = requests.get(url, headers=headers)\n",
    "soup = BeautifulSoup(response.content.decode('utf8'), 'lxml') # 也可写'html_parse"
   ]
  },
  {
   "cell_type": "code",
   "execution_count": 5,
   "metadata": {},
   "outputs": [],
   "source": [
    "from collections import defaultdict"
   ]
  },
  {
   "cell_type": "code",
   "execution_count": 67,
   "metadata": {},
   "outputs": [],
   "source": [
    "page_list = defaultdict(list)\n",
    "for i in soup.find_all('a', {'target':'_blank'}):\n",
    "    temp = re.findall('^北京地铁[\\w|\\d]+线', str(i.string))\n",
    "    if temp != []:\n",
    "        if str(i.string) not in page_list.keys():\n",
    "            page_list[str(i.string)] = str(i['href'])\n",
    "        else:\n",
    "            continue"
   ]
  },
  {
   "cell_type": "code",
   "execution_count": 68,
   "metadata": {},
   "outputs": [
    {
     "data": {
      "text/plain": [
       "defaultdict(list,\n",
       "            {'北京地铁1号线': '/item/%E5%8C%97%E4%BA%AC%E5%9C%B0%E9%93%811%E5%8F%B7%E7%BA%BF',\n",
       "             '北京地铁13号线': '/item/%E5%8C%97%E4%BA%AC%E5%9C%B0%E9%93%8113%E5%8F%B7%E7%BA%BF',\n",
       "             '北京地铁八通线': '/item/%E5%8C%97%E4%BA%AC%E5%9C%B0%E9%93%81%E5%85%AB%E9%80%9A%E7%BA%BF',\n",
       "             '北京地铁5号线': '/item/%E5%8C%97%E4%BA%AC%E5%9C%B0%E9%93%815%E5%8F%B7%E7%BA%BF',\n",
       "             '北京地铁8号线': '/item/%E5%8C%97%E4%BA%AC%E5%9C%B0%E9%93%818%E5%8F%B7%E7%BA%BF',\n",
       "             '北京地铁10号线': '/item/%E5%8C%97%E4%BA%AC%E5%9C%B0%E9%93%8110%E5%8F%B7%E7%BA%BF',\n",
       "             '北京地铁机场线': '/item/%E5%8C%97%E4%BA%AC%E5%9C%B0%E9%93%81%E6%9C%BA%E5%9C%BA%E7%BA%BF',\n",
       "             '北京地铁4号线': '/item/%E5%8C%97%E4%BA%AC%E5%9C%B0%E9%93%814%E5%8F%B7%E7%BA%BF',\n",
       "             '北京地铁15号线': '/item/%E5%8C%97%E4%BA%AC%E5%9C%B0%E9%93%8115%E5%8F%B7%E7%BA%BF',\n",
       "             '北京地铁昌平线': '/item/%E5%8C%97%E4%BA%AC%E5%9C%B0%E9%93%81%E6%98%8C%E5%B9%B3%E7%BA%BF',\n",
       "             '北京地铁大兴线': '/item/%E5%8C%97%E4%BA%AC%E5%9C%B0%E9%93%81%E5%A4%A7%E5%85%B4%E7%BA%BF',\n",
       "             '北京地铁房山线': '/item/%E5%8C%97%E4%BA%AC%E5%9C%B0%E9%93%81%E6%88%BF%E5%B1%B1%E7%BA%BF',\n",
       "             '北京地铁亦庄线': '/item/%E5%8C%97%E4%BA%AC%E5%9C%B0%E9%93%81%E4%BA%A6%E5%BA%84%E7%BA%BF',\n",
       "             '北京地铁9号线': '/item/%E5%8C%97%E4%BA%AC%E5%9C%B0%E9%93%819%E5%8F%B7%E7%BA%BF',\n",
       "             '北京地铁6号线': '/item/%E5%8C%97%E4%BA%AC%E5%9C%B0%E9%93%816%E5%8F%B7%E7%BA%BF',\n",
       "             '北京地铁14号线': '/item/%E5%8C%97%E4%BA%AC%E5%9C%B0%E9%93%8114%E5%8F%B7%E7%BA%BF',\n",
       "             '北京地铁7号线': '/item/%E5%8C%97%E4%BA%AC%E5%9C%B0%E9%93%817%E5%8F%B7%E7%BA%BF',\n",
       "             '北京地铁16号线': '/item/%E5%8C%97%E4%BA%AC%E5%9C%B0%E9%93%8116%E5%8F%B7%E7%BA%BF',\n",
       "             '北京地铁西郊线': '/item/%E5%8C%97%E4%BA%AC%E5%9C%B0%E9%93%81%E8%A5%BF%E9%83%8A%E7%BA%BF',\n",
       "             '北京地铁S1线': '/item/%E5%8C%97%E4%BA%AC%E5%9C%B0%E9%93%81S1%E7%BA%BF',\n",
       "             '北京地铁燕房线': '/item/%E5%8C%97%E4%BA%AC%E5%9C%B0%E9%93%81%E7%87%95%E6%88%BF%E7%BA%BF',\n",
       "             '北京地铁2号线': '/item/%E5%8C%97%E4%BA%AC%E5%9C%B0%E9%93%812%E5%8F%B7%E7%BA%BF'})"
      ]
     },
     "execution_count": 68,
     "metadata": {},
     "output_type": "execute_result"
    }
   ],
   "source": [
    "page_list"
   ]
  },
  {
   "cell_type": "code",
   "execution_count": 69,
   "metadata": {},
   "outputs": [],
   "source": [
    "for i in page_list.keys():\n",
    "    page_list[i] = 'https://baike.baidu.com' + page_list[i]"
   ]
  },
  {
   "cell_type": "code",
   "execution_count": 60,
   "metadata": {},
   "outputs": [
    {
     "ename": "SyntaxError",
     "evalue": "invalid character in identifier (<ipython-input-60-22cf660ffb73>, line 1)",
     "output_type": "error",
     "traceback": [
      "\u001b[1;36m  File \u001b[1;32m\"<ipython-input-60-22cf660ffb73>\"\u001b[1;36m, line \u001b[1;32m1\u001b[0m\n\u001b[1;33m    ‘s1’，燕房，9号，16（~），亦庄，‘西郊’\u001b[0m\n\u001b[1;37m                 ^\u001b[0m\n\u001b[1;31mSyntaxError\u001b[0m\u001b[1;31m:\u001b[0m invalid character in identifier\n"
     ]
    }
   ],
   "source": [
    "‘s1’，燕房，9号，16（~），亦庄，‘西郊’"
   ]
  },
  {
   "cell_type": "code",
   "execution_count": 70,
   "metadata": {},
   "outputs": [
    {
     "data": {
      "text/plain": [
       "defaultdict(list,\n",
       "            {'北京地铁1号线': 'https://baike.baidu.com/item/%E5%8C%97%E4%BA%AC%E5%9C%B0%E9%93%811%E5%8F%B7%E7%BA%BF',\n",
       "             '北京地铁13号线': 'https://baike.baidu.com/item/%E5%8C%97%E4%BA%AC%E5%9C%B0%E9%93%8113%E5%8F%B7%E7%BA%BF',\n",
       "             '北京地铁八通线': 'https://baike.baidu.com/item/%E5%8C%97%E4%BA%AC%E5%9C%B0%E9%93%81%E5%85%AB%E9%80%9A%E7%BA%BF',\n",
       "             '北京地铁5号线': 'https://baike.baidu.com/item/%E5%8C%97%E4%BA%AC%E5%9C%B0%E9%93%815%E5%8F%B7%E7%BA%BF',\n",
       "             '北京地铁8号线': 'https://baike.baidu.com/item/%E5%8C%97%E4%BA%AC%E5%9C%B0%E9%93%818%E5%8F%B7%E7%BA%BF',\n",
       "             '北京地铁10号线': 'https://baike.baidu.com/item/%E5%8C%97%E4%BA%AC%E5%9C%B0%E9%93%8110%E5%8F%B7%E7%BA%BF',\n",
       "             '北京地铁机场线': 'https://baike.baidu.com/item/%E5%8C%97%E4%BA%AC%E5%9C%B0%E9%93%81%E6%9C%BA%E5%9C%BA%E7%BA%BF',\n",
       "             '北京地铁4号线': 'https://baike.baidu.com/item/%E5%8C%97%E4%BA%AC%E5%9C%B0%E9%93%814%E5%8F%B7%E7%BA%BF',\n",
       "             '北京地铁15号线': 'https://baike.baidu.com/item/%E5%8C%97%E4%BA%AC%E5%9C%B0%E9%93%8115%E5%8F%B7%E7%BA%BF',\n",
       "             '北京地铁昌平线': 'https://baike.baidu.com/item/%E5%8C%97%E4%BA%AC%E5%9C%B0%E9%93%81%E6%98%8C%E5%B9%B3%E7%BA%BF',\n",
       "             '北京地铁大兴线': 'https://baike.baidu.com/item/%E5%8C%97%E4%BA%AC%E5%9C%B0%E9%93%81%E5%A4%A7%E5%85%B4%E7%BA%BF',\n",
       "             '北京地铁房山线': 'https://baike.baidu.com/item/%E5%8C%97%E4%BA%AC%E5%9C%B0%E9%93%81%E6%88%BF%E5%B1%B1%E7%BA%BF',\n",
       "             '北京地铁亦庄线': 'https://baike.baidu.com/item/%E5%8C%97%E4%BA%AC%E5%9C%B0%E9%93%81%E4%BA%A6%E5%BA%84%E7%BA%BF',\n",
       "             '北京地铁9号线': 'https://baike.baidu.com/item/%E5%8C%97%E4%BA%AC%E5%9C%B0%E9%93%819%E5%8F%B7%E7%BA%BF',\n",
       "             '北京地铁6号线': 'https://baike.baidu.com/item/%E5%8C%97%E4%BA%AC%E5%9C%B0%E9%93%816%E5%8F%B7%E7%BA%BF',\n",
       "             '北京地铁14号线': 'https://baike.baidu.com/item/%E5%8C%97%E4%BA%AC%E5%9C%B0%E9%93%8114%E5%8F%B7%E7%BA%BF',\n",
       "             '北京地铁7号线': 'https://baike.baidu.com/item/%E5%8C%97%E4%BA%AC%E5%9C%B0%E9%93%817%E5%8F%B7%E7%BA%BF',\n",
       "             '北京地铁16号线': 'https://baike.baidu.com/item/%E5%8C%97%E4%BA%AC%E5%9C%B0%E9%93%8116%E5%8F%B7%E7%BA%BF',\n",
       "             '北京地铁西郊线': 'https://baike.baidu.com/item/%E5%8C%97%E4%BA%AC%E5%9C%B0%E9%93%81%E8%A5%BF%E9%83%8A%E7%BA%BF',\n",
       "             '北京地铁S1线': 'https://baike.baidu.com/item/%E5%8C%97%E4%BA%AC%E5%9C%B0%E9%93%81S1%E7%BA%BF',\n",
       "             '北京地铁燕房线': 'https://baike.baidu.com/item/%E5%8C%97%E4%BA%AC%E5%9C%B0%E9%93%81%E7%87%95%E6%88%BF%E7%BA%BF',\n",
       "             '北京地铁2号线': 'https://baike.baidu.com/item/%E5%8C%97%E4%BA%AC%E5%9C%B0%E9%93%812%E5%8F%B7%E7%BA%BF'})"
      ]
     },
     "execution_count": 70,
     "metadata": {},
     "output_type": "execute_result"
    }
   ],
   "source": [
    "page_list"
   ]
  },
  {
   "cell_type": "code",
   "execution_count": 73,
   "metadata": {},
   "outputs": [
    {
     "name": "stdout",
     "output_type": "stream",
     "text": [
      "https://baike.baidu.com/item/%E5%8C%97%E4%BA%AC%E5%9C%B0%E9%93%811%E5%8F%B7%E7%BA%BF\n",
      "https://baike.baidu.com/item/%E5%8C%97%E4%BA%AC%E5%9C%B0%E9%93%8113%E5%8F%B7%E7%BA%BF\n",
      "https://baike.baidu.com/item/%E5%8C%97%E4%BA%AC%E5%9C%B0%E9%93%81%E5%85%AB%E9%80%9A%E7%BA%BF\n",
      "https://baike.baidu.com/item/%E5%8C%97%E4%BA%AC%E5%9C%B0%E9%93%815%E5%8F%B7%E7%BA%BF\n",
      "https://baike.baidu.com/item/%E5%8C%97%E4%BA%AC%E5%9C%B0%E9%93%818%E5%8F%B7%E7%BA%BF\n",
      "https://baike.baidu.com/item/%E5%8C%97%E4%BA%AC%E5%9C%B0%E9%93%8110%E5%8F%B7%E7%BA%BF\n",
      "https://baike.baidu.com/item/%E5%8C%97%E4%BA%AC%E5%9C%B0%E9%93%81%E6%9C%BA%E5%9C%BA%E7%BA%BF\n",
      "https://baike.baidu.com/item/%E5%8C%97%E4%BA%AC%E5%9C%B0%E9%93%814%E5%8F%B7%E7%BA%BF\n",
      "https://baike.baidu.com/item/%E5%8C%97%E4%BA%AC%E5%9C%B0%E9%93%8115%E5%8F%B7%E7%BA%BF\n",
      "https://baike.baidu.com/item/%E5%8C%97%E4%BA%AC%E5%9C%B0%E9%93%81%E6%98%8C%E5%B9%B3%E7%BA%BF\n",
      "https://baike.baidu.com/item/%E5%8C%97%E4%BA%AC%E5%9C%B0%E9%93%81%E5%A4%A7%E5%85%B4%E7%BA%BF\n",
      "https://baike.baidu.com/item/%E5%8C%97%E4%BA%AC%E5%9C%B0%E9%93%81%E6%88%BF%E5%B1%B1%E7%BA%BF\n",
      "https://baike.baidu.com/item/%E5%8C%97%E4%BA%AC%E5%9C%B0%E9%93%81%E4%BA%A6%E5%BA%84%E7%BA%BF\n",
      "https://baike.baidu.com/item/%E5%8C%97%E4%BA%AC%E5%9C%B0%E9%93%819%E5%8F%B7%E7%BA%BF\n",
      "https://baike.baidu.com/item/%E5%8C%97%E4%BA%AC%E5%9C%B0%E9%93%816%E5%8F%B7%E7%BA%BF\n",
      "https://baike.baidu.com/item/%E5%8C%97%E4%BA%AC%E5%9C%B0%E9%93%8114%E5%8F%B7%E7%BA%BF\n",
      "https://baike.baidu.com/item/%E5%8C%97%E4%BA%AC%E5%9C%B0%E9%93%817%E5%8F%B7%E7%BA%BF\n",
      "https://baike.baidu.com/item/%E5%8C%97%E4%BA%AC%E5%9C%B0%E9%93%8116%E5%8F%B7%E7%BA%BF\n",
      "https://baike.baidu.com/item/%E5%8C%97%E4%BA%AC%E5%9C%B0%E9%93%81%E8%A5%BF%E9%83%8A%E7%BA%BF\n",
      "https://baike.baidu.com/item/%E5%8C%97%E4%BA%AC%E5%9C%B0%E9%93%81S1%E7%BA%BF\n",
      "https://baike.baidu.com/item/%E5%8C%97%E4%BA%AC%E5%9C%B0%E9%93%81%E7%87%95%E6%88%BF%E7%BA%BF\n",
      "https://baike.baidu.com/item/%E5%8C%97%E4%BA%AC%E5%9C%B0%E9%93%812%E5%8F%B7%E7%BA%BF\n"
     ]
    }
   ],
   "source": [
    "zfor i in page_list.keys():\n",
    "    tmp_url = page_list[i]\n",
    "    tmp_response = requests.get(tmp_url, headers=headers)\n",
    "    tmp_soup = BeautifulSoup(tmp_response.content.decode('utf8'), 'lxml')\n",
    "    for i in tmp_soup.find_all('th'):\n",
    "        re.find"
   ]
  },
  {
   "cell_type": "code",
   "execution_count": 74,
   "metadata": {},
   "outputs": [],
   "source": [
    "tmp_url = 'https://baike.baidu.com/item/%E5%8C%97%E4%BA%AC%E5%9C%B0%E9%93%811%E5%8F%B7%E7%BA%BF'\n",
    "tmp_response = requests.get(tmp_url, headers=headers)\n",
    "tmp_soup = BeautifulSoup(tmp_response.content.decode('utf8'), 'lxml')"
   ]
  },
  {
   "cell_type": "code",
   "execution_count": 85,
   "metadata": {},
   "outputs": [
    {
     "data": {
      "text/plain": [
       "['黑石头站——高井站为非正式站名，且此二站无法投入商业运营。',\n",
       " '苹果园——古城',\n",
       " '古城——八角游乐园',\n",
       " '八角游乐园——八宝山',\n",
       " '八宝山——玉泉路',\n",
       " '玉泉路——五棵松',\n",
       " '五棵松——万寿路',\n",
       " '万寿路——公主坟',\n",
       " '公主坟——军事博物馆',\n",
       " '军事博物馆——木樨地',\n",
       " '木樨地——南礼士路',\n",
       " '南礼士路——复兴门',\n",
       " '复兴门——西单',\n",
       " '西单——天安门西',\n",
       " '天安门西——天安门东',\n",
       " '天安门东——王府井',\n",
       " '王府井——东单',\n",
       " '东单——建国门',\n",
       " '建国门——永安里',\n",
       " '永安里——国贸',\n",
       " '国贸——大望路',\n",
       " '大望路——四惠',\n",
       " '四惠——四惠东',\n",
       " '\\n2016年7月18日，在北京地铁永安里车站，我国最早的地铁路线——北京地铁1号线成功立起第一扇站台安全门。2017年，全线所有车站（苹果园站除外）的站台安全门已安装完工。']"
      ]
     },
     "execution_count": 85,
     "metadata": {},
     "output_type": "execute_result"
    }
   ],
   "source": [
    "tmp_soup.find_all(text=re.compile('(\\w+)——(\\w+)'))"
   ]
  },
  {
   "cell_type": "code",
   "execution_count": 130,
   "metadata": {},
   "outputs": [
    {
     "ename": "SyntaxError",
     "evalue": "invalid syntax (<ipython-input-130-11c220ac1d91>, line 8)",
     "output_type": "error",
     "traceback": [
      "\u001b[1;36m  File \u001b[1;32m\"<ipython-input-130-11c220ac1d91>\"\u001b[1;36m, line \u001b[1;32m8\u001b[0m\n\u001b[1;33m    stations_connection_distance[i for i in stations]= d for d in distances\u001b[0m\n\u001b[1;37m                                     ^\u001b[0m\n\u001b[1;31mSyntaxError\u001b[0m\u001b[1;31m:\u001b[0m invalid syntax\n"
     ]
    }
   ],
   "source": [
    "stations = []\n",
    "distances = []\n",
    "for i in tmp_soup.find_all('th',text=re.compile('(.*?)——(.*?)')):\n",
    "    stations += re.findall('>(.*?)——(.*?)<', str(i))\n",
    "for i in tmp_soup.find_all('td',text=re.compile('\\d+米')):\n",
    "    distances += re.findall(('\\d+'), i.string)"
   ]
  },
  {
   "cell_type": "code",
   "execution_count": 125,
   "metadata": {},
   "outputs": [
    {
     "data": {
      "text/plain": [
       "([('苹果园', '古城'),\n",
       "  ('古城', '八角游乐园'),\n",
       "  ('八角游乐园', '八宝山'),\n",
       "  ('八宝山', '玉泉路'),\n",
       "  ('玉泉路', '五棵松'),\n",
       "  ('五棵松', '万寿路'),\n",
       "  ('万寿路', '公主坟'),\n",
       "  ('公主坟', '军事博物馆'),\n",
       "  ('军事博物馆', '木樨地'),\n",
       "  ('木樨地', '南礼士路'),\n",
       "  ('南礼士路', '复兴门'),\n",
       "  ('复兴门', '西单'),\n",
       "  ('西单', '天安门西'),\n",
       "  ('天安门西', '天安门东'),\n",
       "  ('天安门东', '王府井'),\n",
       "  ('王府井', '东单'),\n",
       "  ('东单', '建国门'),\n",
       "  ('建国门', '永安里'),\n",
       "  ('永安里', '国贸'),\n",
       "  ('国贸', '大望路'),\n",
       "  ('大望路', '四惠'),\n",
       "  ('四惠', '四惠东')],\n",
       " ['2606',\n",
       "  '1921',\n",
       "  '1953',\n",
       "  '1479',\n",
       "  '1810',\n",
       "  '1778',\n",
       "  '1313',\n",
       "  '1172',\n",
       "  '1166',\n",
       "  '1291',\n",
       "  '424',\n",
       "  '1590',\n",
       "  '1217',\n",
       "  '925',\n",
       "  '852',\n",
       "  '774',\n",
       "  '1230',\n",
       "  '1377',\n",
       "  '790',\n",
       "  '1385',\n",
       "  '1673',\n",
       "  '1714'])"
      ]
     },
     "execution_count": 125,
     "metadata": {},
     "output_type": "execute_result"
    }
   ],
   "source": [
    "stations, distances"
   ]
  },
  {
   "cell_type": "code",
   "execution_count": 128,
   "metadata": {},
   "outputs": [],
   "source": [
    "stations_connection = defaultdict(list)\n",
    "for i, v in stations:\n",
    "    stations_connection[i].append(v)"
   ]
  },
  {
   "cell_type": "code",
   "execution_count": 129,
   "metadata": {},
   "outputs": [
    {
     "data": {
      "text/plain": [
       "defaultdict(list,\n",
       "            {'苹果园': ['古城'],\n",
       "             '古城': ['八角游乐园'],\n",
       "             '八角游乐园': ['八宝山'],\n",
       "             '八宝山': ['玉泉路'],\n",
       "             '玉泉路': ['五棵松'],\n",
       "             '五棵松': ['万寿路'],\n",
       "             '万寿路': ['公主坟'],\n",
       "             '公主坟': ['军事博物馆'],\n",
       "             '军事博物馆': ['木樨地'],\n",
       "             '木樨地': ['南礼士路'],\n",
       "             '南礼士路': ['复兴门'],\n",
       "             '复兴门': ['西单'],\n",
       "             '西单': ['天安门西'],\n",
       "             '天安门西': ['天安门东'],\n",
       "             '天安门东': ['王府井'],\n",
       "             '王府井': ['东单'],\n",
       "             '东单': ['建国门'],\n",
       "             '建国门': ['永安里'],\n",
       "             '永安里': ['国贸'],\n",
       "             '国贸': ['大望路'],\n",
       "             '大望路': ['四惠'],\n",
       "             '四惠': ['四惠东']})"
      ]
     },
     "execution_count": 129,
     "metadata": {},
     "output_type": "execute_result"
    }
   ],
   "source": [
    "stations_connection"
   ]
  },
  {
   "cell_type": "code",
   "execution_count": 167,
   "metadata": {},
   "outputs": [],
   "source": [
    "stations_connection_distance = defaultdict(int)\n",
    "for i, (s1, s2) in enumerate(stations):\n",
    "    stations_connection_distance['{}-{}'.format(s1, s2)] = int(distances[i])"
   ]
  },
  {
   "cell_type": "code",
   "execution_count": 163,
   "metadata": {},
   "outputs": [
    {
     "data": {
      "text/plain": [
       "defaultdict(int,\n",
       "            {'苹果园-古城': 2606,\n",
       "             '古城-八角游乐园': 1921,\n",
       "             '八角游乐园-八宝山': 1953,\n",
       "             '八宝山-玉泉路': 1479,\n",
       "             '玉泉路-五棵松': 1810,\n",
       "             '五棵松-万寿路': 1778,\n",
       "             '万寿路-公主坟': 1313,\n",
       "             '公主坟-军事博物馆': 1172,\n",
       "             '军事博物馆-木樨地': 1166,\n",
       "             '木樨地-南礼士路': 1291,\n",
       "             '南礼士路-复兴门': 424,\n",
       "             '复兴门-西单': 1590,\n",
       "             '西单-天安门西': 1217,\n",
       "             '天安门西-天安门东': 925,\n",
       "             '天安门东-王府井': 852,\n",
       "             '王府井-东单': 774,\n",
       "             '东单-建国门': 1230,\n",
       "             '建国门-永安里': 1377,\n",
       "             '永安里-国贸': 790,\n",
       "             '国贸-大望路': 1385,\n",
       "             '大望路-四惠': 1673,\n",
       "             '四惠-四惠东': 1714})"
      ]
     },
     "execution_count": 163,
     "metadata": {},
     "output_type": "execute_result"
    }
   ],
   "source": [
    "stations_connection_distance"
   ]
  },
  {
   "cell_type": "code",
   "execution_count": 171,
   "metadata": {},
   "outputs": [
    {
     "name": "stdout",
     "output_type": "stream",
     "text": [
      "2606\n",
      "苹果园 ['古城']\n",
      "苹果园-['古城']\n",
      "1921\n",
      "古城 ['八角游乐园']\n",
      "古城-['八角游乐园']\n",
      "1953\n",
      "八角游乐园 ['八宝山']\n",
      "八角游乐园-['八宝山']\n",
      "1479\n",
      "八宝山 ['玉泉路']\n",
      "八宝山-['玉泉路']\n",
      "1810\n",
      "玉泉路 ['五棵松']\n",
      "玉泉路-['五棵松']\n",
      "1778\n",
      "五棵松 ['万寿路']\n",
      "五棵松-['万寿路']\n",
      "1313\n",
      "万寿路 ['公主坟']\n",
      "万寿路-['公主坟']\n",
      "1172\n",
      "公主坟 ['军事博物馆']\n",
      "公主坟-['军事博物馆']\n",
      "1166\n",
      "军事博物馆 ['木樨地']\n",
      "军事博物馆-['木樨地']\n",
      "1291\n",
      "木樨地 ['南礼士路']\n",
      "木樨地-['南礼士路']\n",
      "424\n",
      "南礼士路 ['复兴门']\n",
      "南礼士路-['复兴门']\n",
      "1590\n",
      "复兴门 ['西单']\n",
      "复兴门-['西单']\n",
      "1217\n",
      "西单 ['天安门西']\n",
      "西单-['天安门西']\n",
      "925\n",
      "天安门西 ['天安门东']\n",
      "天安门西-['天安门东']\n",
      "852\n",
      "天安门东 ['王府井']\n",
      "天安门东-['王府井']\n",
      "774\n",
      "王府井 ['东单']\n",
      "王府井-['东单']\n",
      "1230\n",
      "东单 ['建国门']\n",
      "东单-['建国门']\n",
      "1377\n",
      "建国门 ['永安里']\n",
      "建国门-['永安里']\n",
      "790\n",
      "永安里 ['国贸']\n",
      "永安里-['国贸']\n",
      "1385\n",
      "国贸 ['大望路']\n",
      "国贸-['大望路']\n",
      "1673\n",
      "大望路 ['四惠']\n",
      "大望路-['四惠']\n",
      "1714\n",
      "四惠 ['四惠东']\n",
      "四惠-['四惠东']\n"
     ]
    }
   ],
   "source": [
    "ss = '古城'\n",
    "find = filter(lambda x: x==ss, [i for i in stations_connection])\n",
    "for i, v in stations_connection.items():\n",
    "    print(stations_connection_distance['{}-{}'.format(i, v[0])])\n",
    "    print(i, v)\n",
    "    print('{}-{}'.format(i, v))"
   ]
  },
  {
   "cell_type": "code",
   "execution_count": 212,
   "metadata": {},
   "outputs": [
    {
     "data": {
      "text/plain": [
       "(<function __main__.<lambda>(x)>, ['古城', 1])"
      ]
     },
     "execution_count": 212,
     "metadata": {},
     "output_type": "execute_result"
    }
   ],
   "source": [
    "ss = '古城'\n",
    "find = lambda x: x==ss, [i for i in stations_connection['苹果园']]\n",
    "find"
   ]
  },
  {
   "cell_type": "code",
   "execution_count": 210,
   "metadata": {},
   "outputs": [
    {
     "name": "stdout",
     "output_type": "stream",
     "text": [
      "<filter object at 0x000001BCE12D9470>\n"
     ]
    }
   ],
   "source": [
    "print(find)"
   ]
  },
  {
   "cell_type": "code",
   "execution_count": 192,
   "metadata": {},
   "outputs": [],
   "source": [
    "stations_connection['苹果园'].append(1)"
   ]
  },
  {
   "cell_type": "code",
   "execution_count": 193,
   "metadata": {},
   "outputs": [
    {
     "data": {
      "text/plain": [
       "defaultdict(list,\n",
       "            {'苹果园': ['古城', 1],\n",
       "             '古城': ['八角游乐园'],\n",
       "             '八角游乐园': ['八宝山'],\n",
       "             '八宝山': ['玉泉路'],\n",
       "             '玉泉路': ['五棵松'],\n",
       "             '五棵松': ['万寿路'],\n",
       "             '万寿路': ['公主坟'],\n",
       "             '公主坟': ['军事博物馆'],\n",
       "             '军事博物馆': ['木樨地'],\n",
       "             '木樨地': ['南礼士路'],\n",
       "             '南礼士路': ['复兴门'],\n",
       "             '复兴门': ['西单'],\n",
       "             '西单': ['天安门西'],\n",
       "             '天安门西': ['天安门东'],\n",
       "             '天安门东': ['王府井'],\n",
       "             '王府井': ['东单'],\n",
       "             '东单': ['建国门'],\n",
       "             '建国门': ['永安里'],\n",
       "             '永安里': ['国贸'],\n",
       "             '国贸': ['大望路'],\n",
       "             '大望路': ['四惠'],\n",
       "             '四惠': ['四惠东'],\n",
       "             <filter at 0x1bce12ee5f8>: [],\n",
       "             <filter at 0x1bce130a7f0>: [],\n",
       "             1: []})"
      ]
     },
     "execution_count": 193,
     "metadata": {},
     "output_type": "execute_result"
    }
   ],
   "source": [
    "stations_connection"
   ]
  },
  {
   "cell_type": "code",
   "execution_count": 197,
   "metadata": {},
   "outputs": [],
   "source": [
    "ccc = filter(lambda x: x % 3 == 0, [1, 2, 3])"
   ]
  },
  {
   "cell_type": "code",
   "execution_count": 202,
   "metadata": {},
   "outputs": [
    {
     "name": "stdout",
     "output_type": "stream",
     "text": [
      "False\n"
     ]
    }
   ],
   "source": [
    "print(ccc != [3])"
   ]
  },
  {
   "cell_type": "code",
   "execution_count": 213,
   "metadata": {},
   "outputs": [],
   "source": [
    "fun = [(lambda n : i + n) for i in range(10)]"
   ]
  },
  {
   "cell_type": "code",
   "execution_count": 216,
   "metadata": {},
   "outputs": [
    {
     "data": {
      "text/plain": [
       "13"
      ]
     },
     "execution_count": 216,
     "metadata": {},
     "output_type": "execute_result"
    }
   ],
   "source": [
    "fun[2](4)"
   ]
  },
  {
   "cell_type": "code",
   "execution_count": 221,
   "metadata": {},
   "outputs": [],
   "source": [
    "b = [i for i in range(10)]"
   ]
  },
  {
   "cell_type": "code",
   "execution_count": 222,
   "metadata": {},
   "outputs": [
    {
     "data": {
      "text/plain": [
       "[0, 1, 2, 3, 4, 5, 6, 7, 8, 9]"
      ]
     },
     "execution_count": 222,
     "metadata": {},
     "output_type": "execute_result"
    }
   ],
   "source": [
    "b"
   ]
  },
  {
   "cell_type": "code",
   "execution_count": null,
   "metadata": {},
   "outputs": [],
   "source": []
  }
 ],
 "metadata": {
  "kernelspec": {
   "display_name": "Python 3",
   "language": "python",
   "name": "python3"
  },
  "language_info": {
   "codemirror_mode": {
    "name": "ipython",
    "version": 3
   },
   "file_extension": ".py",
   "mimetype": "text/x-python",
   "name": "python",
   "nbconvert_exporter": "python",
   "pygments_lexer": "ipython3",
   "version": "3.7.3"
  }
 },
 "nbformat": 4,
 "nbformat_minor": 2
}
